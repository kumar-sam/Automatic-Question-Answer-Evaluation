{
  "nbformat": 4,
  "nbformat_minor": 0,
  "metadata": {
    "colab": {
      "name": "End_to_End_Auto-Evaluation.ipynb",
      "provenance": [],
      "collapsed_sections": [],
      "toc_visible": true
    },
    "kernelspec": {
      "name": "python3",
      "display_name": "Python 3"
    }
  },
  "cells": [
    {
      "cell_type": "markdown",
      "metadata": {
        "id": "liIk8f980xT5"
      },
      "source": [
        "# Sentence Embeddings using Siamese BERT-Networks\n",
        "---\n",
        "\n"
      ]
    },
    {
      "cell_type": "markdown",
      "metadata": {
        "id": "bzljhyTQEZds"
      },
      "source": [
        "## Install Sentence Transformer Library"
      ]
    },
    {
      "cell_type": "code",
      "metadata": {
        "id": "AmxRYxNDvn6y",
        "colab": {
          "base_uri": "https://localhost:8080/"
        },
        "outputId": "84886eaf-9f04-4d67-daf4-a519d5e5af5b"
      },
      "source": [
        "# Install the library using pip\n",
        "!pip install sentence-transformers"
      ],
      "execution_count": 1,
      "outputs": [
        {
          "output_type": "stream",
          "text": [
            "Collecting sentence-transformers\n",
            "\u001b[?25l  Downloading https://files.pythonhosted.org/packages/f5/5a/6e41e8383913dd2ba923cdcd02be2e03911595f4d2f9de559ecbed80d2d3/sentence-transformers-0.3.9.tar.gz (64kB)\n",
            "\u001b[K     |████████████████████████████████| 71kB 3.5MB/s \n",
            "\u001b[?25hCollecting transformers<3.6.0,>=3.1.0\n",
            "\u001b[?25l  Downloading https://files.pythonhosted.org/packages/3a/83/e74092e7f24a08d751aa59b37a9fc572b2e4af3918cb66f7766c3affb1b4/transformers-3.5.1-py3-none-any.whl (1.3MB)\n",
            "\u001b[K     |████████████████████████████████| 1.3MB 6.0MB/s \n",
            "\u001b[?25hRequirement already satisfied: tqdm in /usr/local/lib/python3.6/dist-packages (from sentence-transformers) (4.41.1)\n",
            "Requirement already satisfied: torch>=1.6.0 in /usr/local/lib/python3.6/dist-packages (from sentence-transformers) (1.7.0+cu101)\n",
            "Requirement already satisfied: numpy in /usr/local/lib/python3.6/dist-packages (from sentence-transformers) (1.18.5)\n",
            "Requirement already satisfied: scikit-learn in /usr/local/lib/python3.6/dist-packages (from sentence-transformers) (0.22.2.post1)\n",
            "Requirement already satisfied: scipy in /usr/local/lib/python3.6/dist-packages (from sentence-transformers) (1.4.1)\n",
            "Requirement already satisfied: nltk in /usr/local/lib/python3.6/dist-packages (from sentence-transformers) (3.2.5)\n",
            "Collecting tokenizers==0.9.3\n",
            "\u001b[?25l  Downloading https://files.pythonhosted.org/packages/4c/34/b39eb9994bc3c999270b69c9eea40ecc6f0e97991dba28282b9fd32d44ee/tokenizers-0.9.3-cp36-cp36m-manylinux1_x86_64.whl (2.9MB)\n",
            "\u001b[K     |████████████████████████████████| 2.9MB 15.7MB/s \n",
            "\u001b[?25hCollecting sacremoses\n",
            "\u001b[?25l  Downloading https://files.pythonhosted.org/packages/7d/34/09d19aff26edcc8eb2a01bed8e98f13a1537005d31e95233fd48216eed10/sacremoses-0.0.43.tar.gz (883kB)\n",
            "\u001b[K     |████████████████████████████████| 890kB 30.3MB/s \n",
            "\u001b[?25hRequirement already satisfied: requests in /usr/local/lib/python3.6/dist-packages (from transformers<3.6.0,>=3.1.0->sentence-transformers) (2.23.0)\n",
            "Requirement already satisfied: regex!=2019.12.17 in /usr/local/lib/python3.6/dist-packages (from transformers<3.6.0,>=3.1.0->sentence-transformers) (2019.12.20)\n",
            "Requirement already satisfied: packaging in /usr/local/lib/python3.6/dist-packages (from transformers<3.6.0,>=3.1.0->sentence-transformers) (20.4)\n",
            "Collecting sentencepiece==0.1.91\n",
            "\u001b[?25l  Downloading https://files.pythonhosted.org/packages/d4/a4/d0a884c4300004a78cca907a6ff9a5e9fe4f090f5d95ab341c53d28cbc58/sentencepiece-0.1.91-cp36-cp36m-manylinux1_x86_64.whl (1.1MB)\n",
            "\u001b[K     |████████████████████████████████| 1.1MB 36.8MB/s \n",
            "\u001b[?25hRequirement already satisfied: filelock in /usr/local/lib/python3.6/dist-packages (from transformers<3.6.0,>=3.1.0->sentence-transformers) (3.0.12)\n",
            "Requirement already satisfied: protobuf in /usr/local/lib/python3.6/dist-packages (from transformers<3.6.0,>=3.1.0->sentence-transformers) (3.12.4)\n",
            "Requirement already satisfied: dataclasses; python_version < \"3.7\" in /usr/local/lib/python3.6/dist-packages (from transformers<3.6.0,>=3.1.0->sentence-transformers) (0.8)\n",
            "Requirement already satisfied: future in /usr/local/lib/python3.6/dist-packages (from torch>=1.6.0->sentence-transformers) (0.16.0)\n",
            "Requirement already satisfied: typing-extensions in /usr/local/lib/python3.6/dist-packages (from torch>=1.6.0->sentence-transformers) (3.7.4.3)\n",
            "Requirement already satisfied: joblib>=0.11 in /usr/local/lib/python3.6/dist-packages (from scikit-learn->sentence-transformers) (0.17.0)\n",
            "Requirement already satisfied: six in /usr/local/lib/python3.6/dist-packages (from nltk->sentence-transformers) (1.15.0)\n",
            "Requirement already satisfied: click in /usr/local/lib/python3.6/dist-packages (from sacremoses->transformers<3.6.0,>=3.1.0->sentence-transformers) (7.1.2)\n",
            "Requirement already satisfied: urllib3!=1.25.0,!=1.25.1,<1.26,>=1.21.1 in /usr/local/lib/python3.6/dist-packages (from requests->transformers<3.6.0,>=3.1.0->sentence-transformers) (1.24.3)\n",
            "Requirement already satisfied: chardet<4,>=3.0.2 in /usr/local/lib/python3.6/dist-packages (from requests->transformers<3.6.0,>=3.1.0->sentence-transformers) (3.0.4)\n",
            "Requirement already satisfied: certifi>=2017.4.17 in /usr/local/lib/python3.6/dist-packages (from requests->transformers<3.6.0,>=3.1.0->sentence-transformers) (2020.11.8)\n",
            "Requirement already satisfied: idna<3,>=2.5 in /usr/local/lib/python3.6/dist-packages (from requests->transformers<3.6.0,>=3.1.0->sentence-transformers) (2.10)\n",
            "Requirement already satisfied: pyparsing>=2.0.2 in /usr/local/lib/python3.6/dist-packages (from packaging->transformers<3.6.0,>=3.1.0->sentence-transformers) (2.4.7)\n",
            "Requirement already satisfied: setuptools in /usr/local/lib/python3.6/dist-packages (from protobuf->transformers<3.6.0,>=3.1.0->sentence-transformers) (50.3.2)\n",
            "Building wheels for collected packages: sentence-transformers, sacremoses\n",
            "  Building wheel for sentence-transformers (setup.py) ... \u001b[?25l\u001b[?25hdone\n",
            "  Created wheel for sentence-transformers: filename=sentence_transformers-0.3.9-cp36-none-any.whl size=101036 sha256=0ba403a68f1e52d2924b77b22c8a15413cfd9d38b9275c6aa88ddfdce1754f47\n",
            "  Stored in directory: /root/.cache/pip/wheels/fc/89/43/f2f5bc00b03ef9724b0f6254a97eaf159a4c4ddc024b33e07a\n",
            "  Building wheel for sacremoses (setup.py) ... \u001b[?25l\u001b[?25hdone\n",
            "  Created wheel for sacremoses: filename=sacremoses-0.0.43-cp36-none-any.whl size=893257 sha256=323b0834842b7bf5c549b15a77a3044b81372e4ccb93e38f7dbfc26730a7fd71\n",
            "  Stored in directory: /root/.cache/pip/wheels/29/3c/fd/7ce5c3f0666dab31a50123635e6fb5e19ceb42ce38d4e58f45\n",
            "Successfully built sentence-transformers sacremoses\n",
            "Installing collected packages: tokenizers, sacremoses, sentencepiece, transformers, sentence-transformers\n",
            "Successfully installed sacremoses-0.0.43 sentence-transformers-0.3.9 sentencepiece-0.1.91 tokenizers-0.9.3 transformers-3.5.1\n"
          ],
          "name": "stdout"
        }
      ]
    },
    {
      "cell_type": "markdown",
      "metadata": {
        "id": "eIAKz6KVEndZ"
      },
      "source": [
        "## Load the BERT Model"
      ]
    },
    {
      "cell_type": "code",
      "metadata": {
        "id": "5IO_j2Ofv5pq",
        "colab": {
          "base_uri": "https://localhost:8080/"
        },
        "outputId": "618a449d-5745-48dd-faf2-dae32a7560b8"
      },
      "source": [
        "from sentence_transformers import SentenceTransformer\n",
        "\n",
        "# Load the BERT model. Various models trained on Natural Language Inference (NLI) https://github.com/UKPLab/sentence-transformers/blob/master/docs/pretrained-models/nli-models.md and \n",
        "# Semantic Textual Similarity are available https://github.com/UKPLab/sentence-transformers/blob/master/docs/pretrained-models/sts-models.md\n",
        "\n",
        "model = SentenceTransformer('bert-base-nli-mean-tokens')"
      ],
      "execution_count": 2,
      "outputs": [
        {
          "output_type": "stream",
          "text": [
            "100%|██████████| 405M/405M [00:19<00:00, 21.2MB/s]\n"
          ],
          "name": "stderr"
        }
      ]
    },
    {
      "cell_type": "markdown",
      "metadata": {
        "id": "I7_Ib3ITEwgO"
      },
      "source": [
        "## Setup a Corpus"
      ]
    },
    {
      "cell_type": "code",
      "metadata": {
        "id": "nCCX00BG2c_B"
      },
      "source": [
        "# What-is-machine-learning?\n",
        "sentences_machine_learning = [\n",
        "                          \n",
        "  'Suggested: Machine Learning (ML) can be explained as automating and improving the learning process of computers based on their experiences without being actually programmed i.e. without any human assistance. The process starts with feeding good quality data and then training our machines(computers) by building machine learning models using the data and different algorithms. The choice of algorithms depends on what type of data do we have and what kind of task we are trying to automate. Machine learning involves computers discovering how they can perform tasks without being explicitly programmed to do so. It involves computers learning from data provided so that they carry out certain tasks. For simple tasks assigned to computers, it is possible to program algorithms telling the machine how to execute all steps required to solve the problem at hand; on the computers part, no learning is needed. For more advanced tasks, it can be challenging for a human to manually create the needed algorithms. In practice, it can turn out to be more effective to help the machine develop its own algorithm, rather than having human programmers specify every needed step.',\n",
        "   #corrrect\n",
        "  'Machine Learning is the science of getting computers to learn and act like humans do, and improve their learning over time in autonomous fashion, by feeding them data and information in the form of observations and real-world interactions.',\n",
        "  'Machine Learning is a sub-area of artificial intelligence, whereby the term refers to the ability of IT systems to independently find solutions to problems by recognizing patterns in databases. In other words: Machine Learning enables IT systems to recognize patterns on the basis of existing algorithms and data sets and to develop adequate solution concepts.',\n",
        "  'Think of ML as a recipe to learn an algorithm. The recipe is: Learn from past experience of tasks Continue to carry out tasks Raise performance with each experience gained How to raise performance with increasing experience is the algorithm it teaches itself with the help of the recipe. A machine is said to learn if and only if it increases it is performance with each gaining experience',\n",
        "  'Machine learning is a method of data analysis that automates analytical model building. It is a branch of artificial intelligence based on the idea that systems can learn from data, identify patterns and make decisions with minimal human intervention. Because of new computing technologies, machine learning today is not like machine learning of the past. It was born from pattern recognition and the theory that computers can learn without being programmed to perform specific tasks; researchers interested in artificial intelligence wanted to see if computers could learn from data. ',\n",
        "  'Machine learning invariably refers to a family of mathematical techniques and computational algorithms used to ‘learn’ from ‘data’. There are several terms that deserve an amplification. Data. It’s impossible to provide an axiomatic definition to the term data. The term information may be used as a synonym for data but again, that doesn’t say very much (circular arguments never got me very far.) You may think of data as a spreadsheet, a collection of pictures, audio recording, collection of videos, data residing in bank’s credit-card transactions database, the bytes on your hard-disk and so on.',\n",
        "  'Machine Learning is actually a game of data. If you can play with data then you can master Machine Learning. For Example, if you have spent your childhood in some city say Kolkata then it must be obvious that you know all the places in Kolkata. Now if someone asks you about places in Kolkata then you will be able to answer him/her with the maximum confidence that you have. Relating this example I can say that the experiences of your childhood was the training process (training data) with which you have learned and the person who was asking you was testing on you (test data) and your answer was checked if it was right or wrong in percentage(accuracy rate).',\n",
        "  'Is a process of enabling a computer based system to learn to do tasks based on well defined statistical and mathematical methods The ability to do the tasks come from the underlying model which is the result of the learning process. Sometimes the ability comes from an mathematical algorithm The model generated represents behavior of the processes that were earlier performed before machine learning The model is generated from huge volume of data, huge both in breadth and depth reflecting the real world in which the processes are performed The more representative data is of the real world, the better the model would be. The challenge is how to make it a true representative',\n",
        "  'Machine Learning is the science of getting computers to learn and act like humans do, and improve their learning over time in autonomous fashion, by feeding them data and information in the form of observations and real-world interactions.',\n",
        "  'Machine learning is the art and science to making dumb computers really smart at predicting things and taking necessary step to induce a positive outcome. In simple words you feed some data to the machine along with the results and it learns the pattern in the input variables that led to those specific outcomes, and hence apply these learnings to input data for which we may not know the outcome. This is a very specific type of learning it called supervised learning.',\n",
        "  'It is how you make computer programs learn something meaningful from data given to it without being explicitly programmed for it. Behind the scenes, it is clever maths that ensures that program converges to a point where it can be safely assumed that program has accurately understood the relationship that input data may hold within. The premise is that a set of inputs samples (corresponding to a given phenomenon) may hold some some hidden pattern which otherwise is unnoticeable by humans. And in case there truly is no pattern in the input data, maths ensures that program never converges or converges poorly.',\n",
        "  #Related\n",
        "  'Natural Language Processing (aka NLP) is a field of Artificial Intelligence focused on the ability of the machines to comprehend language and interpret messages. In more strict business terms, NLP can be characterized as: a set of algorithms designed to explore, recognize and utilize text-based information and identify insights for the benefit of the business operation As such, natural language processing and generation algorithms form a backbone for the majority of computerized processes.',\n",
        "  'Natural language processing (NLP) describes the interaction between human language and computers. It is a technology that many people use daily and has been around for years, but is often taken for granted. Some aspects of NLP include text-to-speech or speech-to-text conversion; machine translation from one language to another; categorizing, indexing, and summarizing written documents; and identifying mood and opinions within text- and voice-based data.',\n",
        "  'NLP is the process of producing meaningful phrases and sentences in the form of natural language. It is the subfield of artificial intelligence and has great importance in the field of machine learning. It is related to human-computer interaction and helps computers to understand, interpret and manipulate human language. NLP eliminated communication barriers between humans and computers by translating machine language into human language. Today natural language processing is a widely used technology.',\n",
        "  'Artificial intelligence aims at making expert systems. Expert system are like what we human do, we predict an outcome based on the judgement which is collected through sensors and acted upon by effectors. Now these are terminologies commonly used say you are watching Netflix. It senses the genre you are interested in by firstly asking the preference and then mapping it to similar series you watch and here effectors are the movie choice cards that are displayed.',\n",
        "  'Artificial Intelligence is one of the most talked technologies these days. No business is left untouched from this advanced technology. From automated cars to conversational chatbots, AI has made our lives a lot simpler and automated. The usage and implementation of AI is being explored in almost all industry verticals, in simpler words, AI is everywhere and ruling the technological world, and with this, there is tremendous growth in the demand for AI development companies',\n",
        "  'Artificial intelligence is the theory and development of computer systems able to perform tasks normally requiring human intelligence, such as visual perception, speech recognition, decision-making, and translation between languages. It’s a fast-paced and challenging field that is making visible inroads into our everyday life. Natural language processing of the type used in smartphones or Google Translate has become commonplace.',\n",
        "  'Tensorflow develops a “computational graph” object that represents the expression. A “session” object actually runs the graph, calculating the output of the expression, calculating gradients, and performing a variety of gradient-related operations. The key thing to observe is that a Tensorflow tensor (at the Python level) is not itself an array of numbers. It is an object that will eventually correspond to such an array once it is run through a session. ',\n",
        "  'Python is a general-purpose interpreted, interactive, object-oriented, and high-level programming language. It supports functional and structured programming methods as well as OOP. It can be used as a scripting language or can be compiled to byte-code for building large applications.',\n",
        "  'As a statistician I’ve used both effectively. I’ve also sometimes used a #2 pencil and a sheet of paper to solve stat problems (I prefer Blackwing pencils, they are far superior over any other pencil…let’s get that controversy going). Sometimes I’ve used ggplot in R to create dramatic visualizations, but I’ve also used colored pens and a napkin to illustrate a point effectively over a beer to a colleague. I’ve used Python effectively to extract data from the ‘net but I’ve also hand entered data for analysis.',\n",
        "  'This is one of the most popular libraries for deep learning. I like it because of its clean design, and its quite intuitive. It is not something like Keras, you actually have to write more code, but at the same time you can do more fine adjusting than in Keras, maybe not much more because most things can be done in both, but its simpler to do in Pytorch.',\n",
        "  #Unrelated\n",
        "  'The University of Oxford (legally The Chancellor, Masters and Scholars of the University of Oxford) is a collegiate research university in Oxford, Oxfordshire, England. There is evidence of teaching as early as 1096,[2] making it the oldest university in the English-speaking world, the worlds second-oldest university in continuous operation and one of the most prestigious academic institutions in the world.[2][10][11] It grew rapidly from 1167 when Henry II banned English students from attending the University of Paris.[2] After disputes between students and Oxford townsfolk in 1209, some academics fled north-east to Cambridge where they established what became the University of Cambridge.[12] The two English ancient universities share many common features and are often jointly called Oxbridge.',\n",
        "  'Students successful in early examinations are rewarded by their colleges with scholarships and exhibitions, normally the result of a long-standing endowment, although since the introduction of tuition fees the amounts of money available are purely nominal. Scholars, and exhibitioners in some colleges, are entitled to wear a more voluminous undergraduate gown; \"commoners\" (originally those who had to pay for their \"commons\", or food and lodging) are restricted to a short, sleeveless garment. The term \"scholar\" in relation to Oxford therefore has a specific meaning as well as the more general meaning of someone of outstanding academic ability. In previous times, there were \"noblemen commoners\" and \"gentlemen commoners\", but these ranks were abolished in the 19th century. \"Closed\" scholarships, available only to candidates who fitted specific conditions such as coming from specific schools, ',\n",
        "  'Political science is a social study concerning the allocation and transfer of power in decision making, the roles and systems of governance including governments and international organizations, political behaviour and public policies. They measure the success of governance and specific policies by examining many factors, including stability, justice, material wealth, peace and public health. Some political scientists seek to advance positive (attempt to describe how things are, as opposed to how they should be) theses by analysing politics. Others advance normative theses, by making specific policy recommendations. The study of politics and policies can be closely connected, for example in comparative analyses of which types of political institutions tend to produce certain types of policies.[6]',\n",
        "  'Gandhi became a leading figure in the Indian home-rule movement. Calling for mass boycotts, he urged government officials to stop working for the Crown, students to stop attending government schools, soldiers to leave their posts and citizens to stop paying taxes and purchasing British goods.',\n",
        "  'Electricity is all around us--powering technology like our cell phones, computers, lights, soldering irons, and air conditioners. It is tough to escape it in our modern world. Even when you try to escape electricity, it is still at work throughout nature, from the lightning in a thunderstorm to the synapses inside our body. But what exactly is electricity? This is a very complicated question, and as you dig deeper and ask more questions, there really is not a definitive answer, only abstract representations of how electricity interacts with our surroundings.',\n",
        "  \n",
        "\n",
        "]"
      ],
      "execution_count": 37,
      "outputs": []
    },
    {
      "cell_type": "code",
      "metadata": {
        "colab": {
          "base_uri": "https://localhost:8080/"
        },
        "id": "bAByQLlTA-El",
        "outputId": "0d0e1b80-f40c-4354-e966-93ccd9e6ec6f"
      },
      "source": [
        "len(sentences_machine_learning)"
      ],
      "execution_count": 38,
      "outputs": [
        {
          "output_type": "execute_result",
          "data": {
            "text/plain": [
              "26"
            ]
          },
          "metadata": {
            "tags": []
          },
          "execution_count": 38
        }
      ]
    },
    {
      "cell_type": "code",
      "metadata": {
        "id": "6CzrPZlwElAg"
      },
      "source": [
        "# Each sentence is encoded as a 1-D vector with 78 columns\n",
        "sentence_embeddings_machine_learning = model.encode(sentences_machine_learning)"
      ],
      "execution_count": 39,
      "outputs": []
    },
    {
      "cell_type": "code",
      "metadata": {
        "colab": {
          "base_uri": "https://localhost:8080/"
        },
        "id": "Qp2WU0nnEnaN",
        "outputId": "1a75235b-edf1-4834-a6d7-1179dd479b7d"
      },
      "source": [
        "#cosine similarity - SBert\n",
        "from sklearn.metrics.pairwise import cosine_similarity\n",
        "import numpy as np\n",
        "print(np.round_(np.array(cosine_similarity(sentence_embeddings_machine_learning, sentence_embeddings_machine_learning)), decimals=3))"
      ],
      "execution_count": 40,
      "outputs": [
        {
          "output_type": "stream",
          "text": [
            "[[1.    0.799 0.758 0.661 0.9   0.794 0.685 0.745 0.799 0.843 0.798 0.712\n",
            "  0.608 0.747 0.574 0.583 0.679 0.697 0.527 0.596 0.65  0.396 0.506 0.438\n",
            "  0.422 0.584]\n",
            " [0.799 1.    0.84  0.711 0.796 0.624 0.699 0.795 1.    0.809 0.678 0.768\n",
            "  0.682 0.834 0.613 0.584 0.73  0.671 0.63  0.517 0.634 0.271 0.407 0.477\n",
            "  0.253 0.43 ]\n",
            " [0.758 0.84  1.    0.64  0.828 0.717 0.68  0.798 0.84  0.765 0.743 0.834\n",
            "  0.575 0.816 0.635 0.539 0.745 0.772 0.696 0.555 0.56  0.336 0.417 0.525\n",
            "  0.282 0.421]\n",
            " [0.661 0.711 0.64  1.    0.62  0.561 0.661 0.752 0.711 0.69  0.583 0.605\n",
            "  0.6   0.584 0.566 0.551 0.599 0.588 0.442 0.506 0.565 0.457 0.513 0.532\n",
            "  0.348 0.456]\n",
            " [0.9   0.796 0.828 0.62  1.    0.817 0.64  0.824 0.796 0.828 0.809 0.779\n",
            "  0.626 0.817 0.613 0.603 0.762 0.711 0.568 0.591 0.657 0.437 0.543 0.534\n",
            "  0.404 0.569]\n",
            " [0.794 0.624 0.717 0.561 0.817 1.    0.573 0.736 0.624 0.716 0.788 0.706\n",
            "  0.675 0.673 0.549 0.56  0.709 0.683 0.546 0.653 0.591 0.495 0.579 0.478\n",
            "  0.399 0.644]\n",
            " [0.685 0.699 0.68  0.661 0.64  0.573 1.    0.682 0.699 0.715 0.595 0.591\n",
            "  0.559 0.62  0.582 0.559 0.575 0.644 0.44  0.551 0.571 0.443 0.498 0.459\n",
            "  0.396 0.435]\n",
            " [0.745 0.795 0.798 0.752 0.824 0.736 0.682 1.    0.795 0.838 0.748 0.74\n",
            "  0.654 0.782 0.579 0.62  0.742 0.707 0.603 0.604 0.708 0.418 0.565 0.609\n",
            "  0.313 0.525]\n",
            " [0.799 1.    0.84  0.711 0.796 0.624 0.699 0.795 1.    0.809 0.678 0.768\n",
            "  0.682 0.834 0.613 0.584 0.73  0.671 0.63  0.517 0.634 0.271 0.407 0.477\n",
            "  0.253 0.43 ]\n",
            " [0.843 0.809 0.765 0.69  0.828 0.716 0.715 0.838 0.809 1.    0.8   0.71\n",
            "  0.577 0.773 0.629 0.592 0.7   0.635 0.538 0.678 0.738 0.361 0.515 0.537\n",
            "  0.399 0.529]\n",
            " [0.798 0.678 0.743 0.583 0.809 0.788 0.595 0.748 0.678 0.8   1.    0.63\n",
            "  0.53  0.674 0.554 0.561 0.627 0.657 0.473 0.58  0.691 0.368 0.524 0.445\n",
            "  0.346 0.51 ]\n",
            " [0.712 0.768 0.834 0.605 0.779 0.706 0.591 0.74  0.768 0.71  0.63  1.\n",
            "  0.699 0.863 0.602 0.623 0.828 0.694 0.712 0.562 0.565 0.395 0.442 0.55\n",
            "  0.372 0.511]\n",
            " [0.608 0.682 0.575 0.6   0.626 0.675 0.559 0.654 0.682 0.577 0.53  0.699\n",
            "  1.    0.73  0.475 0.586 0.764 0.57  0.557 0.576 0.617 0.446 0.538 0.415\n",
            "  0.254 0.513]\n",
            " [0.747 0.834 0.816 0.584 0.817 0.673 0.62  0.782 0.834 0.773 0.674 0.863\n",
            "  0.73  1.    0.551 0.618 0.831 0.657 0.709 0.585 0.652 0.378 0.445 0.485\n",
            "  0.321 0.485]\n",
            " [0.574 0.613 0.635 0.566 0.613 0.549 0.582 0.579 0.613 0.629 0.554 0.602\n",
            "  0.475 0.551 1.    0.437 0.561 0.468 0.391 0.572 0.49  0.372 0.508 0.568\n",
            "  0.38  0.385]\n",
            " [0.583 0.584 0.539 0.551 0.603 0.56  0.559 0.62  0.584 0.592 0.561 0.623\n",
            "  0.586 0.618 0.437 1.    0.677 0.486 0.476 0.542 0.667 0.499 0.489 0.375\n",
            "  0.314 0.553]\n",
            " [0.679 0.73  0.745 0.599 0.762 0.709 0.575 0.742 0.73  0.7   0.627 0.828\n",
            "  0.764 0.831 0.561 0.677 1.    0.606 0.633 0.56  0.584 0.444 0.467 0.47\n",
            "  0.364 0.618]\n",
            " [0.697 0.671 0.772 0.588 0.711 0.683 0.644 0.707 0.671 0.635 0.657 0.694\n",
            "  0.57  0.657 0.468 0.486 0.606 1.    0.69  0.525 0.546 0.346 0.399 0.453\n",
            "  0.287 0.497]\n",
            " [0.527 0.63  0.696 0.442 0.568 0.546 0.44  0.603 0.63  0.538 0.473 0.712\n",
            "  0.557 0.709 0.391 0.476 0.633 0.69  1.    0.5   0.471 0.225 0.278 0.388\n",
            "  0.211 0.416]\n",
            " [0.596 0.517 0.555 0.506 0.591 0.653 0.551 0.604 0.517 0.678 0.58  0.562\n",
            "  0.576 0.585 0.572 0.542 0.56  0.525 0.5   1.    0.709 0.442 0.577 0.486\n",
            "  0.392 0.466]\n",
            " [0.65  0.634 0.56  0.565 0.657 0.591 0.571 0.708 0.634 0.738 0.691 0.565\n",
            "  0.617 0.652 0.49  0.667 0.584 0.546 0.471 0.709 1.    0.356 0.597 0.412\n",
            "  0.229 0.457]\n",
            " [0.396 0.271 0.336 0.457 0.437 0.495 0.443 0.418 0.271 0.361 0.368 0.395\n",
            "  0.446 0.378 0.372 0.499 0.444 0.346 0.225 0.442 0.356 1.    0.681 0.393\n",
            "  0.535 0.432]\n",
            " [0.506 0.407 0.417 0.513 0.543 0.579 0.498 0.565 0.407 0.515 0.524 0.442\n",
            "  0.538 0.445 0.508 0.489 0.467 0.399 0.278 0.577 0.597 0.681 1.    0.542\n",
            "  0.421 0.386]\n",
            " [0.438 0.477 0.525 0.532 0.534 0.478 0.459 0.609 0.477 0.537 0.445 0.55\n",
            "  0.415 0.485 0.568 0.375 0.47  0.453 0.388 0.486 0.412 0.393 0.542 1.\n",
            "  0.437 0.43 ]\n",
            " [0.422 0.253 0.282 0.348 0.404 0.399 0.396 0.313 0.253 0.399 0.346 0.372\n",
            "  0.254 0.321 0.38  0.314 0.364 0.287 0.211 0.392 0.229 0.535 0.421 0.437\n",
            "  1.    0.445]\n",
            " [0.584 0.43  0.421 0.456 0.569 0.644 0.435 0.525 0.43  0.529 0.51  0.511\n",
            "  0.513 0.485 0.385 0.553 0.618 0.497 0.416 0.466 0.457 0.432 0.386 0.43\n",
            "  0.445 1.   ]]\n"
          ],
          "name": "stdout"
        }
      ]
    },
    {
      "cell_type": "code",
      "metadata": {
        "colab": {
          "base_uri": "https://localhost:8080/"
        },
        "id": "0F92HKGAEne-",
        "outputId": "72c03ac9-8ef3-462d-a7b4-7f752e11754c"
      },
      "source": [
        "bert_score_ml = np.round_(np.array(cosine_similarity(sentence_embeddings_machine_learning, sentence_embeddings_machine_learning)), decimals=3)[0]\n",
        "bert_score_ml"
      ],
      "execution_count": 41,
      "outputs": [
        {
          "output_type": "execute_result",
          "data": {
            "text/plain": [
              "array([1.   , 0.799, 0.758, 0.661, 0.9  , 0.794, 0.685, 0.745, 0.799,\n",
              "       0.843, 0.798, 0.712, 0.608, 0.747, 0.574, 0.583, 0.679, 0.697,\n",
              "       0.527, 0.596, 0.65 , 0.396, 0.506, 0.438, 0.422, 0.584],\n",
              "      dtype=float32)"
            ]
          },
          "metadata": {
            "tags": []
          },
          "execution_count": 41
        }
      ]
    },
    {
      "cell_type": "code",
      "metadata": {
        "id": "gxPn6tq8Gft4"
      },
      "source": [
        ""
      ],
      "execution_count": 41,
      "outputs": []
    },
    {
      "cell_type": "code",
      "metadata": {
        "id": "9LUquIQ5GfxV"
      },
      "source": [
        ""
      ],
      "execution_count": 41,
      "outputs": []
    },
    {
      "cell_type": "code",
      "metadata": {
        "id": "qKSiCV7S3Nrg"
      },
      "source": [
        "# sentences = [\n",
        "#  'Machine Learning is the science of getting computers to learn and act like humans do, and improve their learning over time in autonomous fashion, by feeding them data and information in the form of observations and real-world interactions.',\n",
        "#  'Machine Learning (ML) can be explained as automating and improving the learning process of computers based on their experiences without being actually programmed i.e. without any human assistance. The process starts with feeding good quality data and then training our machines(computers) by building machine learning models using the data and different algorithms. The choice of algorithms depends on what type of data do we have and what kind of task we are trying to automate.',\n",
        "#  'Data science is an inter-disciplinary field that uses scientific methods, processes, algorithms and systems to extract knowledge and insights from many structural and unstructured data. Data science is related to data mining, machine learning and big data.',\n",
        "#  'software engineers are really good in coding they are a good team player and good in mathematics',\n",
        "#  'Joint Entrance Examination – Advanced (JEE-Advanced), formerly the Indian Institutes of Technology-Joint Entrance Examination (IIT-JEE), is an academic examination held annually in India. It is conducted by one of the seven zonal IITs (IIT Roorkee, IIT Kharagpur, IIT Delhi, IIT Kanpur, IIT Bombay, IIT Madras, and IIT Dharwad) under the guidance of the Joint Admission Board (JAB). It is the sole prerequisite for admission to the Indian Institutes of Technology. Other universities like the Rajiv Gandhi Institute of Petroleum Technology, Indian Institute of Science Education and Research and the Indian Institute of Science also use the score obtained on the JEE-Advanced exam as the basis for admission. The examination is organised each year by one of the IITs, on a round-robin rotation pattern.',\n",
        "#  \"The president of India, officially the President of the Republic of India (IAST: Bhārat kē Rāṣhṭrapati), is the ceremonial head of state of India and the Commander-in-chief of the Indian Armed Forces.The president is indirectly elected by an electoral college comprising the Parliament of India (both houses) and the legislative assemblies of each of India's states and territories, who themselves are all directly elected.\"\n",
        "# ]"
      ],
      "execution_count": 42,
      "outputs": []
    },
    {
      "cell_type": "code",
      "metadata": {
        "id": "cJcnv4Zu2dDK"
      },
      "source": [
        "sentences_java = [\n",
        "  \"Suggested: Java is a class-based, object-oriented programming language that is designed to have as few implementation dependencies as possible. It is a general-purpose programming language intended to let application developers write once, run anywhere (WORA),[17] meaning that compiled Java code can run on all platforms that support Java without the need for recompilation.[18] Java applications are typically compiled to bytecode that can run on any Java virtual machine (JVM) regardless of the underlying computer architecture. The syntax of Java is similar to C and C++, but has fewer low-level facilities than either of them. The Java runtime provides dynamic capabilities (such as reflection and runtime code modification) that are typically not available in traditional compiled languages. As of 2019, Java was one of the most popular programming languages in use according to GitHub,[19][20] particularly for client-server web applications, with a reported 9 million developers.\",\n",
        "\n",
        "  #corrrect\n",
        "  \"Java is just a programming language that James Gosling developed with Sun Microsystems and released in 1995. It was initially known as Oak language named after an Oak tree outside Mr. Gosling’s Office and then renamed as Green and then finally the “Java” from the famous Java Coffee at that time. Its just a programming language which follows absolute principles of Object Oriented Programming. And there is no doubt that this language has helped in developing so many robust applications and frameworks.\",\n",
        "  \"JAVA is the name of coffee beans in Indonesia. James gosling who is known as the father of java, his team used to take coffee made of java beans while developing the java language. so, they named it as JAVA. first, they named the language as 'OAK' (which is a strong tree) but due to copyright problem, they changed that name and tried other different names but they couldn’t find suitable to their programming language. finally they tried JAVA. as everyone in the team liked this name so they fixed this. \",\n",
        "  \"Java is a programming language and computing platform. Java released by James Gosling at Sun Microsystems in 1995 and later developed by Oracle Corporation. It is centered on importing the necessary packages to have access to “Object” and “classes.” These objects have methods that do actions and fields that store data. Java is very fast, secure, and reliable language.\",\n",
        "  \"Java is a general-purpose, concurrent, object-oriented, class-based, and the runtime environment(JRE) which consists of JVM which is the cornerstone of the Java platform. Java was developed in the mid-1990s by James A. Gosling, a former computer scientist with Sun Microsystems. Java is a programming language that produces software for multiple platforms. When a programmer writes a Java application, the compiled code (known as bytecode) runs on most operating systems (OS), including Windows, Linux and Mac OS. Java derives much of its syntax from the C and C++ programming languages.\",\n",
        "  \"Java is a high-level programming language developed by Sun Microsystems. It was originally designed for developing programs for set-top boxes and handheld devices, but later became a popular choice for creating web applications. The Java syntax is similar to C++, but is strictly an object-oriented programming language.\",\n",
        "  \"Java is an OO language which helps you to coding through object it based on imperative style coding, It is not so called pure OOPs (all though may debates are here) but as it supports primitive so it is not pure OO language. It is a High level language (generation 4) so it does not directly access OS level resources.\",\n",
        "  \"Java is a programming language as well as it is a platform. initially it was developed for operating electronic devices.\",\n",
        "  \"Java is a general-purpose computer programming language that is concurrent, class-based, object-oriented, and specifically designed to have as few implementation dependencies as possible. A virtual machine, called the Java Virtual Machine (JVM), is used to run the bytecode on each platform.\",\n",
        "  \"Java is a object oriented programming language which allows the user to ‘write once and run anywhere'making it platform independent. it is used to develop applications and softwares. Java is portable, robust, secure that is why among the most famous programming languages used.\",\n",
        "  \"Java is a programming language that developers use to create applications on yourcomputer. Chances are you've downloaded a program that required the Javaruntime, and so you probably have it installed it on your system. Java also has a web plug-in that allows you to run these apps in your browser.\",\n",
        "\n",
        "  #Related\n",
        "  'The object oriented programming simplified data handling as it was more organised now. The OOP is based on Classes and Objects which adds to its advantages. Say you want to design the stadium in the above example. So you design a class (which is more like a plan of the object to be designed, here Stadium, which in real world is designed by architect) containing its specifications. And the you can create various objects based on that design of class with varying features and specifications but same basic design (like various stadiums can be created based on same basic design but with varying specifications like seating capacity etc). This is the basic concept of Classes and Objects which forms the backbone of OOP model.',\n",
        "  'Programming is basically defining behavior for something driven by a processor (a computer, a robot, a mobile phone and so on.). When you set up an alarm on your phone, you actually program it to ring at 6am. But much more often programming relates specifically to writing code in special editors on the computer. The process of programming then is creating code blocks that define behavior for a specific program, process or widget, whatsoever. You probably knew all this, but I wrote it just to make sure.',\n",
        "  'Object-oriented programming (OOP) refers to a type of computer programming (software design) in which programmers define not only the data type of a data structure, but also the types of operations (functions) that can be applied to the data structure. In this way, the data structure becomes an object that includes both data and functions. In addition, programmers can create relationships between one object and another. For example, objects can inherit characteristics from other objects.',\n",
        "  'If a class does not allow calling code to access internal object data and permits access through methods only, this is a strong form of abstraction or information hiding known as encapsulation. Some languages (Java, for example) let classes enforce access restrictions explicitly, for example denoting internal data with the private keyword and designating methods intended for use by code outside the class with the public keyword. Methods may also be designed public, private, or intermediate levels such as protected (which allows access from the same class and its subclasses, but not objects of a different class). In other languages (like Python) this is enforced only by convention (for example, private methods may have names that start with an underscore). Encapsulation prevents external code from being concerned with the internal workings of an object. This facilitates code refactoring, for example allowing the author of the class to change how objects of that class represent their data internally without changing any external code (as long as \"public\" method calls work the same way). It also encourages programmers to put all the code that is concerned with a certain set of data in the same class, which organizes it for easy comprehension by other programmers. Encapsulation is a technique that encourages decoupling.',\n",
        "  'Python is a high- level, general purpose, interactive, interpreted and object-oriented programming language. It was developed in 1991. Python allows the programmer to write programs and instruction using fewer lines of codes.It gives the liberty to its user to write an object-oriented program on both a small and large scale. It has the core feature of code readability using whitespace to determine the code blocks instead of using curly braces or keywords.',\n",
        "  'Python is a widely used high-level, general-purpose, interpreted, dynamic programming language. Its design philosophy emphasizes code readability, and its syntax allows programmers to express concepts in fewer lines of code than possible in languages such as C++ or Java. The language provides constructs intended to enable clear programs on both a small and large scale. Python supports multiple programming paradigms, including object-oriented, imperative and functional programming or procedural styles. It features a dynamic type system and automatic memory management and has a large and comprehensive standard library.',\n",
        "  'Python is an interpreted language. Interpreted languages do not need to be compiled to run. A program called an interpreter will run python code on any kind of computer it can run on itself. This means if the programmer needs to change the code they can quickly see the results. This also means Python is slower than a compiled language like C, because it is not running machine code directly.',\n",
        "  'Socket programming in Java is used for communication between the applications that are running on different JRE. It can be either connection-oriented or connectionless. On the whole, a socket is a way to establish a connection between a client and a server. In this article, I will tell you all about Socket Programming.',\n",
        "  'Machine Learning is the science of getting computers to learn and act like humans do, and improve their learning over time in autonomous fashion, by feeding them data and information in the form of observations and real-world interactions.',\n",
        "  'Machine Learning is a sub-area of artificial intelligence, whereby the term refers to the ability of IT systems to independently find solutions to problems by recognizing patterns in databases. In other words: Machine Learning enables IT systems to recognize patterns on the basis of existing algorithms and data sets and to develop adequate solution concepts.',\n",
        "\n",
        "  #Unrelated\n",
        "  'The University of Oxford (legally The Chancellor, Masters and Scholars of the University of Oxford) is a collegiate research university in Oxford, Oxfordshire, England. There is evidence of teaching as early as 1096,[2] making it the oldest university in the English-speaking world, the worlds second-oldest university in continuous operation and one of the most prestigious academic institutions in the world.[2][10][11] It grew rapidly from 1167 when Henry II banned English students from attending the University of Paris.[2] After disputes between students and Oxford townsfolk in 1209, some academics fled north-east to Cambridge where they established what became the University of Cambridge.[12] The two English ancient universities share many common features and are often jointly called Oxbridge.',\n",
        "  'Students successful in early examinations are rewarded by their colleges with scholarships and exhibitions, normally the result of a long-standing endowment, although since the introduction of tuition fees the amounts of money available are purely nominal. Scholars, and exhibitioners in some colleges, are entitled to wear a more voluminous undergraduate gown; \"commoners\" (originally those who had to pay for their \"commons\", or food and lodging) are restricted to a short, sleeveless garment. The term \"scholar\" in relation to Oxford therefore has a specific meaning as well as the more general meaning of someone of outstanding academic ability. In previous times, there were \"noblemen commoners\" and \"gentlemen commoners\", but these ranks were abolished in the 19th century. \"Closed\" scholarships, available only to candidates who fitted specific conditions such as coming from specific schools, ',\n",
        "  'Political science is a social study concerning the allocation and transfer of power in decision making, the roles and systems of governance including governments and international organizations, political behaviour and public policies. They measure the success of governance and specific policies by examining many factors, including stability, justice, material wealth, peace and public health. Some political scientists seek to advance positive (attempt to describe how things are, as opposed to how they should be) theses by analysing politics. Others advance normative theses, by making specific policy recommendations. The study of politics and policies can be closely connected, for example in comparative analyses of which types of political institutions tend to produce certain types of policies.[6]',\n",
        "  'Gandhi became a leading figure in the Indian home-rule movement. Calling for mass boycotts, he urged government officials to stop working for the Crown, students to stop attending government schools, soldiers to leave their posts and citizens to stop paying taxes and purchasing British goods.',\n",
        "  'Electricity is all around us--powering technology like our cell phones, computers, lights, soldering irons, and air conditioners. It is tough to escape it in our modern world. Even when you try to escape electricity, it is still at work throughout nature, from the lightning in a thunderstorm to the synapses inside our body. But what exactly is electricity? This is a very complicated question, and as you dig deeper and ask more questions, there really is not a definitive answer, only abstract representations of how electricity interacts with our surroundings.',\n",
        "  \n",
        "]"
      ],
      "execution_count": 43,
      "outputs": []
    },
    {
      "cell_type": "code",
      "metadata": {
        "colab": {
          "base_uri": "https://localhost:8080/"
        },
        "id": "9vAK7mjmGIGf",
        "outputId": "198ef6bc-2ecd-4437-a1b7-6512f3847a64"
      },
      "source": [
        "len(sentences_java)"
      ],
      "execution_count": 44,
      "outputs": [
        {
          "output_type": "execute_result",
          "data": {
            "text/plain": [
              "26"
            ]
          },
          "metadata": {
            "tags": []
          },
          "execution_count": 44
        }
      ]
    },
    {
      "cell_type": "code",
      "metadata": {
        "id": "rEa50nefv7HY"
      },
      "source": [
        "# Each sentence is encoded as a 1-D vector with 78 columns\n",
        "sentence_embeddings_java = model.encode(sentences_java)\n"
      ],
      "execution_count": 45,
      "outputs": []
    },
    {
      "cell_type": "code",
      "metadata": {
        "colab": {
          "base_uri": "https://localhost:8080/"
        },
        "id": "PMKgTVJT08yn",
        "outputId": "9011f20f-a2d2-4b8b-fed1-9adc6334ba68"
      },
      "source": [
        "#cosine similarity - SBert\n",
        "from sklearn.metrics.pairwise import cosine_similarity\n",
        "print(np.round_(np.array(cosine_similarity(sentence_embeddings_java, sentence_embeddings_java)), decimals=3))"
      ],
      "execution_count": 46,
      "outputs": [
        {
          "output_type": "stream",
          "text": [
            "[[1.    0.66  0.55  0.786 0.755 0.799 0.773 0.657 0.906 0.823 0.718 0.603\n",
            "  0.594 0.629 0.759 0.82  0.811 0.825 0.747 0.583 0.651 0.342 0.443 0.356\n",
            "  0.254 0.453]\n",
            " [0.66  1.    0.768 0.79  0.774 0.719 0.555 0.546 0.633 0.609 0.661 0.559\n",
            "  0.605 0.524 0.541 0.685 0.645 0.591 0.631 0.474 0.552 0.596 0.51  0.378\n",
            "  0.405 0.442]\n",
            " [0.55  0.768 1.    0.605 0.568 0.621 0.563 0.429 0.464 0.484 0.525 0.533\n",
            "  0.594 0.365 0.523 0.529 0.48  0.562 0.484 0.391 0.435 0.592 0.533 0.438\n",
            "  0.504 0.539]\n",
            " [0.786 0.79  0.605 1.    0.857 0.836 0.686 0.699 0.768 0.846 0.751 0.598\n",
            "  0.64  0.708 0.669 0.777 0.804 0.693 0.776 0.67  0.72  0.48  0.451 0.451\n",
            "  0.319 0.505]\n",
            " [0.755 0.774 0.568 0.857 1.    0.839 0.606 0.728 0.805 0.667 0.757 0.521\n",
            "  0.653 0.739 0.665 0.792 0.753 0.641 0.761 0.569 0.631 0.471 0.365 0.377\n",
            "  0.316 0.477]\n",
            " [0.799 0.719 0.621 0.836 0.839 1.    0.743 0.791 0.78  0.746 0.802 0.599\n",
            "  0.647 0.674 0.702 0.732 0.747 0.686 0.764 0.576 0.636 0.439 0.488 0.453\n",
            "  0.294 0.54 ]\n",
            " [0.773 0.555 0.563 0.686 0.606 0.743 1.    0.63  0.718 0.645 0.584 0.563\n",
            "  0.526 0.569 0.812 0.71  0.743 0.787 0.635 0.511 0.601 0.367 0.493 0.425\n",
            "  0.287 0.619]\n",
            " [0.657 0.546 0.429 0.699 0.728 0.791 0.63  1.    0.715 0.639 0.7   0.464\n",
            "  0.57  0.66  0.621 0.579 0.563 0.561 0.717 0.549 0.583 0.31  0.328 0.361\n",
            "  0.16  0.529]\n",
            " [0.906 0.633 0.464 0.768 0.805 0.78  0.718 0.715 1.    0.727 0.719 0.534\n",
            "  0.585 0.701 0.766 0.811 0.79  0.734 0.812 0.571 0.672 0.262 0.323 0.325\n",
            "  0.211 0.426]\n",
            " [0.823 0.609 0.484 0.846 0.667 0.746 0.645 0.639 0.727 1.    0.728 0.598\n",
            "  0.549 0.622 0.611 0.672 0.775 0.657 0.726 0.671 0.667 0.336 0.441 0.393\n",
            "  0.194 0.443]\n",
            " [0.718 0.661 0.525 0.751 0.757 0.802 0.584 0.7   0.719 0.728 1.    0.596\n",
            "  0.69  0.737 0.667 0.66  0.675 0.623 0.854 0.699 0.692 0.339 0.407 0.42\n",
            "  0.286 0.44 ]\n",
            " [0.603 0.559 0.533 0.598 0.521 0.599 0.563 0.464 0.534 0.598 0.596 1.\n",
            "  0.604 0.637 0.569 0.653 0.652 0.577 0.545 0.627 0.611 0.37  0.591 0.578\n",
            "  0.352 0.455]\n",
            " [0.594 0.605 0.594 0.64  0.653 0.647 0.526 0.57  0.585 0.549 0.69  0.604\n",
            "  1.    0.676 0.574 0.64  0.573 0.629 0.619 0.656 0.629 0.47  0.42  0.391\n",
            "  0.394 0.592]\n",
            " [0.629 0.524 0.365 0.708 0.739 0.674 0.569 0.66  0.701 0.622 0.737 0.637\n",
            "  0.676 1.    0.69  0.721 0.728 0.586 0.772 0.807 0.821 0.228 0.314 0.453\n",
            "  0.226 0.419]\n",
            " [0.759 0.541 0.523 0.669 0.665 0.702 0.812 0.621 0.766 0.611 0.667 0.569\n",
            "  0.574 0.69  1.    0.741 0.737 0.734 0.732 0.527 0.647 0.337 0.434 0.47\n",
            "  0.362 0.536]\n",
            " [0.82  0.685 0.529 0.777 0.792 0.732 0.71  0.579 0.811 0.672 0.66  0.653\n",
            "  0.64  0.721 0.741 1.    0.892 0.821 0.683 0.625 0.691 0.369 0.418 0.379\n",
            "  0.356 0.433]\n",
            " [0.811 0.645 0.48  0.804 0.753 0.747 0.743 0.563 0.79  0.775 0.675 0.652\n",
            "  0.573 0.728 0.737 0.892 1.    0.748 0.7   0.643 0.723 0.306 0.418 0.431\n",
            "  0.295 0.476]\n",
            " [0.825 0.591 0.562 0.693 0.641 0.686 0.787 0.561 0.734 0.657 0.623 0.577\n",
            "  0.629 0.586 0.734 0.821 0.748 1.    0.602 0.587 0.615 0.377 0.445 0.346\n",
            "  0.408 0.555]\n",
            " [0.747 0.631 0.484 0.776 0.761 0.764 0.635 0.717 0.812 0.726 0.854 0.545\n",
            "  0.619 0.772 0.732 0.683 0.7   0.602 1.    0.657 0.719 0.253 0.299 0.414\n",
            "  0.247 0.444]\n",
            " [0.583 0.474 0.391 0.67  0.569 0.576 0.511 0.549 0.571 0.671 0.699 0.627\n",
            "  0.656 0.807 0.527 0.625 0.643 0.587 0.657 1.    0.84  0.271 0.407 0.477\n",
            "  0.253 0.43 ]\n",
            " [0.651 0.552 0.435 0.72  0.631 0.636 0.601 0.583 0.672 0.667 0.692 0.611\n",
            "  0.629 0.821 0.647 0.691 0.723 0.615 0.719 0.84  1.    0.336 0.417 0.525\n",
            "  0.282 0.421]\n",
            " [0.342 0.596 0.592 0.48  0.471 0.439 0.367 0.31  0.262 0.336 0.339 0.37\n",
            "  0.47  0.228 0.337 0.369 0.306 0.377 0.253 0.271 0.336 1.    0.681 0.393\n",
            "  0.535 0.432]\n",
            " [0.443 0.51  0.533 0.451 0.365 0.488 0.493 0.328 0.323 0.441 0.407 0.591\n",
            "  0.42  0.314 0.434 0.418 0.418 0.445 0.299 0.407 0.417 0.681 1.    0.542\n",
            "  0.421 0.386]\n",
            " [0.356 0.378 0.438 0.451 0.377 0.453 0.425 0.361 0.325 0.393 0.42  0.578\n",
            "  0.391 0.453 0.47  0.379 0.431 0.346 0.414 0.477 0.525 0.393 0.542 1.\n",
            "  0.437 0.43 ]\n",
            " [0.254 0.405 0.504 0.319 0.316 0.294 0.287 0.16  0.211 0.194 0.286 0.352\n",
            "  0.394 0.226 0.362 0.356 0.295 0.408 0.247 0.253 0.282 0.535 0.421 0.437\n",
            "  1.    0.445]\n",
            " [0.453 0.442 0.539 0.505 0.477 0.54  0.619 0.529 0.426 0.443 0.44  0.455\n",
            "  0.592 0.419 0.536 0.433 0.476 0.555 0.444 0.43  0.421 0.432 0.386 0.43\n",
            "  0.445 1.   ]]\n"
          ],
          "name": "stdout"
        }
      ]
    },
    {
      "cell_type": "code",
      "metadata": {
        "colab": {
          "base_uri": "https://localhost:8080/"
        },
        "id": "jtgIJCA_2Dva",
        "outputId": "61d7ac82-302b-4f37-ab6d-9d3d0d0420b7"
      },
      "source": [
        "bert_score_java = np.round_(np.array(cosine_similarity(sentence_embeddings_java, sentence_embeddings_java)), decimals=3)[0]\n",
        "bert_score_java"
      ],
      "execution_count": 47,
      "outputs": [
        {
          "output_type": "execute_result",
          "data": {
            "text/plain": [
              "array([1.   , 0.66 , 0.55 , 0.786, 0.755, 0.799, 0.773, 0.657, 0.906,\n",
              "       0.823, 0.718, 0.603, 0.594, 0.629, 0.759, 0.82 , 0.811, 0.825,\n",
              "       0.747, 0.583, 0.651, 0.342, 0.443, 0.356, 0.254, 0.453],\n",
              "      dtype=float32)"
            ]
          },
          "metadata": {
            "tags": []
          },
          "execution_count": 47
        }
      ]
    },
    {
      "cell_type": "code",
      "metadata": {
        "id": "6ifTEQMT2DzY"
      },
      "source": [
        "# 85-75: 3\n",
        "# 85-95: 4\n",
        "# >95 : 5\n",
        "# skill match score: 25%\n",
        "# model : 75%"
      ],
      "execution_count": 48,
      "outputs": []
    },
    {
      "cell_type": "code",
      "metadata": {
        "id": "WCjY87E6gSNs"
      },
      "source": [
        "#skill count ratio"
      ],
      "execution_count": 49,
      "outputs": []
    },
    {
      "cell_type": "code",
      "metadata": {
        "colab": {
          "base_uri": "https://localhost:8080/"
        },
        "id": "pVqADFzKjf0c",
        "outputId": "b928e03e-8d82-4b1c-c2b0-093af9e7e4d6"
      },
      "source": [
        "!pip install flashtext"
      ],
      "execution_count": 50,
      "outputs": [
        {
          "output_type": "stream",
          "text": [
            "Requirement already satisfied: flashtext in /usr/local/lib/python3.6/dist-packages (2.7)\n"
          ],
          "name": "stdout"
        }
      ]
    },
    {
      "cell_type": "code",
      "metadata": {
        "colab": {
          "base_uri": "https://localhost:8080/"
        },
        "id": "TFttA4aikSvA",
        "outputId": "5571ea53-5487-4d1c-d5f7-4cdc3f15c705"
      },
      "source": [
        "import nltk\n",
        "nltk.download('stopwords')\n",
        "nltk.download('punkt')"
      ],
      "execution_count": 51,
      "outputs": [
        {
          "output_type": "stream",
          "text": [
            "[nltk_data] Downloading package stopwords to /root/nltk_data...\n",
            "[nltk_data]   Package stopwords is already up-to-date!\n",
            "[nltk_data] Downloading package punkt to /root/nltk_data...\n",
            "[nltk_data]   Package punkt is already up-to-date!\n"
          ],
          "name": "stdout"
        },
        {
          "output_type": "execute_result",
          "data": {
            "text/plain": [
              "True"
            ]
          },
          "metadata": {
            "tags": []
          },
          "execution_count": 51
        }
      ]
    },
    {
      "cell_type": "code",
      "metadata": {
        "id": "eGQ6sihai38S"
      },
      "source": [
        "import re\n",
        "import datetime\n",
        "import nltk\n",
        "import pandas as pd\n",
        "from string import digits\n",
        "from nltk import word_tokenize\n",
        "from flashtext import KeywordProcessor\n",
        "from nltk.stem import WordNetLemmatizer\n",
        "\n",
        "wordnet_lemmatizer = WordNetLemmatizer()\n",
        "import re\n",
        "\n",
        "TAG_RE = re.compile(r'<[^>]+>')\n",
        "def remove_tags(text):\n",
        "    return TAG_RE.sub(' ', text)\n",
        "\n",
        "try:\n",
        "    from nltk.corpus import stopwords\n",
        "except jdr_exceptions as e:\n",
        "    import nltk\n",
        "    nltk.download('stopwords')\n",
        "    from nltk.corpus import stopwords\n",
        "\n",
        "\n",
        "with open(\"/content/dice_hard_skills_updated.txt\", 'r', encoding = \"utf-8\") as skill_data:\n",
        "    unique_skills = skill_data.read()\n",
        "    unique_skills = unique_skills.split(\"\\n\")\n",
        "\n",
        "with open(\"/content/lemmatized_skills.txt\", 'r', encoding = \"utf-8\") as lemma_skill_data:\n",
        "   lemma_skills = lemma_skill_data.read()\n",
        "   lemma_skills = lemma_skills.split(\"\\n\")\n",
        "\n",
        "# Regex Alternate to replace skills faster\n",
        "replace_keyword_processor = KeywordProcessor(case_sensitive=True)\n",
        "\n",
        "for i in range(len(unique_skills)):\n",
        "    replace_keyword_processor.add_keyword(unique_skills[i], lemma_skills[i])\n",
        "\n",
        "# Load stopwords before-hand\n",
        "stop_words = stopwords.words('english')"
      ],
      "execution_count": 52,
      "outputs": []
    },
    {
      "cell_type": "code",
      "metadata": {
        "colab": {
          "base_uri": "https://localhost:8080/"
        },
        "id": "JK787llkj3mk",
        "outputId": "9b2717d3-5efd-4ef4-82a4-72b4e47b3a63"
      },
      "source": [
        "len(unique_skills)"
      ],
      "execution_count": 53,
      "outputs": [
        {
          "output_type": "execute_result",
          "data": {
            "text/plain": [
              "8068"
            ]
          },
          "metadata": {
            "tags": []
          },
          "execution_count": 53
        }
      ]
    },
    {
      "cell_type": "code",
      "metadata": {
        "colab": {
          "base_uri": "https://localhost:8080/"
        },
        "id": "8DSKG-y0lAKN",
        "outputId": "2e350a2a-f008-492b-8f85-7f0a7f9729ce"
      },
      "source": [
        "unique_skills[:10]"
      ],
      "execution_count": 54,
      "outputs": [
        {
          "output_type": "execute_result",
          "data": {
            "text/plain": [
              "['ab initio',\n",
              " 'ab test',\n",
              " 'abaqus',\n",
              " 'abend aid',\n",
              " 'ableton live',\n",
              " 'absence management',\n",
              " 'acaps',\n",
              " 'acceptance testing',\n",
              " 'acceptance testing management',\n",
              " 'access control']"
            ]
          },
          "metadata": {
            "tags": []
          },
          "execution_count": 54
        }
      ]
    },
    {
      "cell_type": "code",
      "metadata": {
        "colab": {
          "base_uri": "https://localhost:8080/"
        },
        "id": "fIIaiNbxjcfx",
        "outputId": "e9dc65ad-da60-44a4-c58d-73c2548a3848"
      },
      "source": [
        "len(lemma_skills)"
      ],
      "execution_count": 55,
      "outputs": [
        {
          "output_type": "execute_result",
          "data": {
            "text/plain": [
              "8068"
            ]
          },
          "metadata": {
            "tags": []
          },
          "execution_count": 55
        }
      ]
    },
    {
      "cell_type": "code",
      "metadata": {
        "colab": {
          "base_uri": "https://localhost:8080/"
        },
        "id": "668zHBx9lDzn",
        "outputId": "ab5321d9-7f55-44c1-c5d0-e559633fb762"
      },
      "source": [
        "lemma_skills[:10]"
      ],
      "execution_count": 56,
      "outputs": [
        {
          "output_type": "execute_result",
          "data": {
            "text/plain": [
              "['ab_initio',\n",
              " 'ab_test',\n",
              " 'abaqus',\n",
              " 'abend_aid',\n",
              " 'ableton_live',\n",
              " 'absence_management',\n",
              " 'acaps',\n",
              " 'acceptance_testing',\n",
              " 'acceptance_testing_management',\n",
              " 'access_control']"
            ]
          },
          "metadata": {
            "tags": []
          },
          "execution_count": 56
        }
      ]
    },
    {
      "cell_type": "code",
      "metadata": {
        "id": "SEXYESz_iWXl"
      },
      "source": [
        "def preprocessJob(text, unique_skills, lemma_skills): \n",
        "\n",
        "    global stop_words\n",
        "    text = text.lower()\n",
        "    \n",
        "    replace_keyword_processor = KeywordProcessor(case_sensitive=True)\n",
        "    for i in range(len(unique_skills)):\n",
        "        replace_keyword_processor.add_keyword(unique_skills[i], lemma_skills[i])\n",
        "    text = replace_keyword_processor.replace_keywords(text)\n",
        "\n",
        "    #dealing with unicode char\n",
        "    text = text.replace(u'\\xa0', u' ')\n",
        "    text = re.sub(r'[^\\x00-\\x7F]',' ', text)\n",
        "\n",
        "    # Removes non-alphabetic characters excluding _\n",
        "    text= re.sub('[^._A-Za-z]', ' ', text)\n",
        "\n",
        "    #replacing multiple space with single space\n",
        "    text = re.sub('\\s+', ' ', text)\n",
        "    \n",
        "    #replacing multiple _ with single _\n",
        "    text = re.sub('_+', '_', text)\n",
        "\n",
        "    # strips extra spaces and underscores pairs\n",
        "    text = re.sub(' _ ', ' ', text)\n",
        "    text = re.sub('_ ', ' ', text)\n",
        "    text = re.sub(' _', ' ', text)\n",
        "    text = re.sub('\\s+', ' ', text)\n",
        "\n",
        "    tokens = word_tokenize(str(text))\n",
        "    result = [token for token in tokens if token not in stop_words]\n",
        "    result = \" \".join(result)\n",
        "    return result"
      ],
      "execution_count": 57,
      "outputs": []
    },
    {
      "cell_type": "code",
      "metadata": {
        "id": "kHjGodQRiWb9"
      },
      "source": [
        "text = \"Suggested: Java is a class-based, object-oriented programming language that is designed to have as few implementation dependencies as possible. It is a general-purpose programming language intended to let application developers write once, run anywhere (WORA),[17] meaning that compiled Java code can run on all platforms that support Java without the need for recompilation.[18] Java applications are typically compiled to bytecode that can run on any Java virtual machine (JVM) regardless of the underlying computer architecture. The syntax of Java is similar to C and C++, but has fewer low-level facilities than either of them. The Java runtime provides dynamic capabilities (such as reflection and runtime code modification) that are typically not available in traditional compiled languages. As of 2019, Java was one of the most popular programming languages in use according to GitHub,[19][20] particularly for client-server web applications, with a reported 9 million developers.\"\n",
        "clean_text = preprocessJob(text, unique_skills, lemma_skills)"
      ],
      "execution_count": 58,
      "outputs": []
    },
    {
      "cell_type": "code",
      "metadata": {
        "colab": {
          "base_uri": "https://localhost:8080/"
        },
        "id": "L0YdvpwRoGfc",
        "outputId": "434a0f31-302b-499c-ce1a-3971fa336e2c"
      },
      "source": [
        "print(clean_text)"
      ],
      "execution_count": 59,
      "outputs": [
        {
          "output_type": "stream",
          "text": [
            "suggested java class based object oriented programming language designed implementation dependencies possible . general purpose programming language intended let application developers write run anywhere wora meaning compiled java code run platforms support java without need recompilation . java applications typically compiled bytecode run java virtual machine jvm regardless underlying computer_architecture . syntax java similar c cPP fewer low level facilities either . java runtime provides dynamic capabilities reflection runtime code modification typically available traditional compiled languages . java one popular programming_language use according github particularly client server web_applications reported million developers .\n"
          ],
          "name": "stdout"
        }
      ]
    },
    {
      "cell_type": "code",
      "metadata": {
        "id": "mcPuN8RydfMV"
      },
      "source": [
        "# suggested java class based object oriented programming language designed implementation dependencies possible . general purpose programming language intended let application developers write run anywhere wora meaning compiled java code run platforms support java without need recompilation . java applications typically compiled bytecode run java virtual machine jvm regardless underlying computer_architecture . syntax java similar c cPP fewer low level facilities either . java runtime provides dynamic capabilities reflection runtime code modification typically available traditional compiled languages . java one popular programming_language use according github particularly client server web_applications reported million developers .\n"
      ],
      "execution_count": 60,
      "outputs": []
    },
    {
      "cell_type": "code",
      "metadata": {
        "id": "G436G5ociWfd"
      },
      "source": [
        "def extractKeywords(text):\n",
        "  \n",
        "    extract_keyword_processor = KeywordProcessor()\n",
        "    extract_keyword_processor.add_keywords_from_list(lemma_skills)\n",
        "    return list(set(extract_keyword_processor.extract_keywords(text)))"
      ],
      "execution_count": 61,
      "outputs": []
    },
    {
      "cell_type": "code",
      "metadata": {
        "colab": {
          "base_uri": "https://localhost:8080/"
        },
        "id": "H0TCFQBmiWlJ",
        "outputId": "9c49e332-3c5c-4fb2-958d-4d8338cd7ce8"
      },
      "source": [
        "extractKeywords(clean_text)"
      ],
      "execution_count": 62,
      "outputs": [
        {
          "output_type": "execute_result",
          "data": {
            "text/plain": [
              "['computer_architecture',\n",
              " 'c',\n",
              " 'cPP',\n",
              " 'jvm',\n",
              " 'programming_language',\n",
              " 'github',\n",
              " 'java',\n",
              " 'programming',\n",
              " 'web_applications']"
            ]
          },
          "metadata": {
            "tags": []
          },
          "execution_count": 62
        }
      ]
    },
    {
      "cell_type": "code",
      "metadata": {
        "colab": {
          "base_uri": "https://localhost:8080/"
        },
        "id": "U1Dil9BgoL5l",
        "outputId": "73444cce-d5c8-4e2d-d18c-9718beee466f"
      },
      "source": [
        "#repeating same for candidate answer\n",
        "text = 'Machine Learning is a sub-area of artificial intelligence, whereby the term refers to the ability of IT systems to independently find solutions to problems by recognizing patterns in databases. In other words: Machine Learning enables IT systems to recognize patterns on the basis of existing algorithms and data sets and to develop adequate solution concepts.'\n",
        "clean_text = preprocessJob(text, unique_skills, lemma_skills)\n",
        "extractKeywords(clean_text)"
      ],
      "execution_count": 63,
      "outputs": [
        {
          "output_type": "execute_result",
          "data": {
            "text/plain": [
              "['algorithm', 'artificial_intelligence', 'machine_learning', 'database']"
            ]
          },
          "metadata": {
            "tags": []
          },
          "execution_count": 63
        }
      ]
    },
    {
      "cell_type": "code",
      "metadata": {
        "id": "20GCTRDpow2R"
      },
      "source": [
        ""
      ],
      "execution_count": 63,
      "outputs": []
    },
    {
      "cell_type": "markdown",
      "metadata": {
        "id": "V7REzf9aI6oe"
      },
      "source": [
        "### JAVA"
      ]
    },
    {
      "cell_type": "code",
      "metadata": {
        "colab": {
          "base_uri": "https://localhost:8080/"
        },
        "id": "iJ44J1v_I9Pu",
        "outputId": "344a8201-3943-4c3a-802b-fc84e18440aa"
      },
      "source": [
        "len(sentences_java)"
      ],
      "execution_count": 64,
      "outputs": [
        {
          "output_type": "execute_result",
          "data": {
            "text/plain": [
              "26"
            ]
          },
          "metadata": {
            "tags": []
          },
          "execution_count": 64
        }
      ]
    },
    {
      "cell_type": "code",
      "metadata": {
        "id": "wk0EL9L2I9UM"
      },
      "source": [
        "skill_vector_list = list()\n",
        "for i in range(len(sentences_java)):\n",
        "    clean_text = preprocessJob(sentences_java[i], unique_skills, lemma_skills)\n",
        "    skill_vector_list.append(extractKeywords(clean_text))"
      ],
      "execution_count": 65,
      "outputs": []
    },
    {
      "cell_type": "code",
      "metadata": {
        "colab": {
          "base_uri": "https://localhost:8080/"
        },
        "id": "4Wmg4KS-KTki",
        "outputId": "9605c883-b586-42fd-8f7e-849a42fc8366"
      },
      "source": [
        "skill_vector_list"
      ],
      "execution_count": 66,
      "outputs": [
        {
          "output_type": "execute_result",
          "data": {
            "text/plain": [
              "[['computer_architecture',\n",
              "  'c',\n",
              "  'cPP',\n",
              "  'jvm',\n",
              "  'programming_language',\n",
              "  'github',\n",
              "  'java',\n",
              "  'programming',\n",
              "  'web_applications'],\n",
              " ['programming', 'object_oriented_programming', 'java'],\n",
              " ['programming', 'java'],\n",
              " ['programming', 'java'],\n",
              " ['operating_system',\n",
              "  'c',\n",
              "  'cPP',\n",
              "  'os',\n",
              "  'jvm',\n",
              "  'programming_language',\n",
              "  'linux',\n",
              "  'java',\n",
              "  'programming',\n",
              "  'window'],\n",
              " ['programming', 'cPP', 'java', 'web_applications'],\n",
              " ['oops', 'coding', 'os', 'java'],\n",
              " ['programming', 'java'],\n",
              " ['programming', 'jvm', 'java'],\n",
              " ['object_oriented_programming', 'java', 'programming_language'],\n",
              " ['programming', 'java'],\n",
              " ['design', 'architect', 'oop', 'object_oriented_programming'],\n",
              " ['programming'],\n",
              " ['software_design', 'oop', 'data_structure', 'programming'],\n",
              " ['code_refactoring', 'python', 'java'],\n",
              " ['python', 'programming'],\n",
              " ['cPP',\n",
              "  'python',\n",
              "  'dynamic_programming',\n",
              "  'java',\n",
              "  'functional_programming',\n",
              "  'design',\n",
              "  'management',\n",
              "  'programming'],\n",
              " ['python', 'c'],\n",
              " ['java', 'socket_programming', 'socket'],\n",
              " ['machine_learning'],\n",
              " ['algorithm', 'artificial_intelligence', 'machine_learning', 'database'],\n",
              " ['teaching'],\n",
              " [],\n",
              " ['decision_making'],\n",
              " ['purchasing', 'tax', 'mass'],\n",
              " ['soldering']]"
            ]
          },
          "metadata": {
            "tags": []
          },
          "execution_count": 66
        }
      ]
    },
    {
      "cell_type": "code",
      "metadata": {
        "id": "RueOsdL1KX3W"
      },
      "source": [
        "score_vector = list()\n",
        "\n",
        "for i in range(0,len(skill_vector_list)):\n",
        "    # Percentage similarity of lists using \"|\" operator + \"&\" operator + set() \n",
        "    res = ( len(set(skill_vector_list[i]) & set(skill_vector_list[0])) / float(len(set(skill_vector_list[0]))) )* 100\n",
        "    score_vector.append(res)"
      ],
      "execution_count": 67,
      "outputs": []
    },
    {
      "cell_type": "code",
      "metadata": {
        "colab": {
          "base_uri": "https://localhost:8080/"
        },
        "id": "9t3opzZdLdWE",
        "outputId": "c2d0e2b4-3f44-4846-b3e6-83b4cdac7833"
      },
      "source": [
        "skill_score_java = score_vector\n",
        "skill_score_java"
      ],
      "execution_count": 74,
      "outputs": [
        {
          "output_type": "execute_result",
          "data": {
            "text/plain": [
              "[100.0,\n",
              " 25.0,\n",
              " 50.0,\n",
              " 50.0,\n",
              " 25.0,\n",
              " 50.0,\n",
              " 50.0,\n",
              " 50.0,\n",
              " 25.0,\n",
              " 25.0,\n",
              " 0.0,\n",
              " 25.0,\n",
              " 0.0,\n",
              " 25.0,\n",
              " 0.0,\n",
              " 0.0,\n",
              " 0.0,\n",
              " 0.0,\n",
              " 0.0,\n",
              " 0.0,\n",
              " 0.0,\n",
              " 0.0,\n",
              " 0.0,\n",
              " 0.0,\n",
              " 0.0,\n",
              " 0.0]"
            ]
          },
          "metadata": {
            "tags": []
          },
          "execution_count": 74
        }
      ]
    },
    {
      "cell_type": "markdown",
      "metadata": {
        "id": "jFbgbI24I9uO"
      },
      "source": [
        "### MACHINE LEARNING"
      ]
    },
    {
      "cell_type": "code",
      "metadata": {
        "colab": {
          "base_uri": "https://localhost:8080/"
        },
        "id": "SzrgPQEZJCqN",
        "outputId": "305377a2-7a48-4394-a9ca-ce3b022ec1c2"
      },
      "source": [
        "len(sentences_machine_learning)"
      ],
      "execution_count": 75,
      "outputs": [
        {
          "output_type": "execute_result",
          "data": {
            "text/plain": [
              "26"
            ]
          },
          "metadata": {
            "tags": []
          },
          "execution_count": 75
        }
      ]
    },
    {
      "cell_type": "code",
      "metadata": {
        "id": "Tpm1Ot20JCvx"
      },
      "source": [
        "skill_vector_list = list()\n",
        "for i in range(len(sentences_machine_learning)):\n",
        "    clean_text = preprocessJob(sentences_machine_learning[i], unique_skills, lemma_skills)\n",
        "    skill_vector_list.append(extractKeywords(clean_text))"
      ],
      "execution_count": 76,
      "outputs": []
    },
    {
      "cell_type": "code",
      "metadata": {
        "colab": {
          "base_uri": "https://localhost:8080/"
        },
        "id": "gXD0tRurJCzY",
        "outputId": "fe74d435-7a63-4826-e472-f34e191ab07e"
      },
      "source": [
        "skill_vector_list"
      ],
      "execution_count": 77,
      "outputs": [
        {
          "output_type": "execute_result",
          "data": {
            "text/plain": [
              "[['algorithm', 'ml', 'machine_learning', 'training'],\n",
              " ['machine_learning'],\n",
              " ['algorithm', 'artificial_intelligence', 'machine_learning', 'database'],\n",
              " ['ml', 'algorithm'],\n",
              " ['analytical',\n",
              "  'data_analysis',\n",
              "  'pattern_recognition',\n",
              "  'artificial_intelligence',\n",
              "  'machine_learning'],\n",
              " ['algorithm', 'spreadsheet', 'machine_learning', 'database'],\n",
              " ['testing', 'machine_learning', 'training'],\n",
              " ['machine_learning', 'algorithm'],\n",
              " ['machine_learning'],\n",
              " ['supervised_learning', 'machine_learning'],\n",
              " [],\n",
              " ['natural_language_processing',\n",
              "  'nlp',\n",
              "  'artificial_intelligence',\n",
              "  'algorithm'],\n",
              " ['natural_language_processing', 'indexing', 'nlp', 'machine_translation'],\n",
              " ['natural_language_processing',\n",
              "  'nlp',\n",
              "  'artificial_intelligence',\n",
              "  'machine_learning'],\n",
              " ['artificial_intelligence'],\n",
              " ['artificial_intelligence', 'ai'],\n",
              " ['speech_recognition',\n",
              "  'human_intelligence',\n",
              "  'artificial_intelligence',\n",
              "  'natural_language_processing',\n",
              "  'visual'],\n",
              " ['python', 'tensorflow', 'graph'],\n",
              " ['scripting_language', 'python', 'oop', 'programming'],\n",
              " ['r', 'analysis', 'python', 'ggplot'],\n",
              " ['pytorch', 'kera', 'deep_learning', 'design'],\n",
              " ['teaching'],\n",
              " [],\n",
              " ['decision_making'],\n",
              " ['purchasing', 'tax', 'mass'],\n",
              " ['soldering']]"
            ]
          },
          "metadata": {
            "tags": []
          },
          "execution_count": 77
        }
      ]
    },
    {
      "cell_type": "code",
      "metadata": {
        "id": "zh7mr2R2MEvz"
      },
      "source": [
        "score_vector = list()\n",
        "\n",
        "for i in range(0,len(skill_vector_list)):\n",
        "    # Percentage similarity of lists using \"|\" operator + \"&\" operator + set() \n",
        "    res = ( len(set(skill_vector_list[i]) & set(skill_vector_list[0])) / float(len(set(skill_vector_list[0]))) )* 100\n",
        "    score_vector.append(res)"
      ],
      "execution_count": 78,
      "outputs": []
    },
    {
      "cell_type": "code",
      "metadata": {
        "id": "ggUvcc2GMKFC",
        "colab": {
          "base_uri": "https://localhost:8080/"
        },
        "outputId": "7af18230-0945-47fd-baf2-99c5eda1f279"
      },
      "source": [
        "skill_score_ml = score_vector\n",
        "skill_score_ml"
      ],
      "execution_count": 79,
      "outputs": [
        {
          "output_type": "execute_result",
          "data": {
            "text/plain": [
              "[100.0,\n",
              " 25.0,\n",
              " 50.0,\n",
              " 50.0,\n",
              " 25.0,\n",
              " 50.0,\n",
              " 50.0,\n",
              " 50.0,\n",
              " 25.0,\n",
              " 25.0,\n",
              " 0.0,\n",
              " 25.0,\n",
              " 0.0,\n",
              " 25.0,\n",
              " 0.0,\n",
              " 0.0,\n",
              " 0.0,\n",
              " 0.0,\n",
              " 0.0,\n",
              " 0.0,\n",
              " 0.0,\n",
              " 0.0,\n",
              " 0.0,\n",
              " 0.0,\n",
              " 0.0,\n",
              " 0.0]"
            ]
          },
          "metadata": {
            "tags": []
          },
          "execution_count": 79
        }
      ]
    },
    {
      "cell_type": "code",
      "metadata": {
        "id": "gvkNPMLSMMHq"
      },
      "source": [
        ""
      ],
      "execution_count": null,
      "outputs": []
    },
    {
      "cell_type": "markdown",
      "metadata": {
        "id": "LdBvHtw1jmzP"
      },
      "source": [
        "## Calculating final score"
      ]
    },
    {
      "cell_type": "code",
      "metadata": {
        "id": "AZbF84g7qQPP"
      },
      "source": [
        "import numpy as np"
      ],
      "execution_count": 80,
      "outputs": []
    },
    {
      "cell_type": "code",
      "metadata": {
        "colab": {
          "base_uri": "https://localhost:8080/"
        },
        "id": "TsgNH-j-p3yw",
        "outputId": "cbdad3aa-b041-49a0-8fce-f13c81b238f7"
      },
      "source": [
        "final_score_ml = (0.2 * (np.array(skill_score_ml)/100)) + (0.8 * np.array(bert_score_ml))\n",
        "final_score_ml"
      ],
      "execution_count": 81,
      "outputs": [
        {
          "output_type": "execute_result",
          "data": {
            "text/plain": [
              "array([1.00000001, 0.68920003, 0.70640001, 0.62880001, 0.76999997,\n",
              "       0.73520002, 0.64800004, 0.69600002, 0.68920003, 0.72440003,\n",
              "       0.63840002, 0.61960005, 0.48639998, 0.64759998, 0.45919999,\n",
              "       0.4664    , 0.54320002, 0.55760002, 0.42160001, 0.47680002,\n",
              "       0.51999998, 0.3168    , 0.4048    , 0.3504    , 0.33759999,\n",
              "       0.46720001])"
            ]
          },
          "metadata": {
            "tags": []
          },
          "execution_count": 81
        }
      ]
    },
    {
      "cell_type": "code",
      "metadata": {
        "colab": {
          "base_uri": "https://localhost:8080/",
          "height": 715
        },
        "id": "wX51MqsTgM1m",
        "outputId": "ce2f9c3a-abb7-4ca2-e84a-228c7efb41e2"
      },
      "source": [
        "import matplotlib.pyplot as plt\n",
        "fig = plt.figure()\n",
        "ax = fig.add_axes([1,1,2.5,2.5])\n",
        "ax.set_title('Evaluated Marks for Machine learning Answers')\n",
        "answer = ['answer',\n",
        "          'Corr1', 'Corr2', 'Corr3', 'Corr4', 'Corr5','Corr6', 'Corr7', 'Corr8', 'Corr9', 'Corr10',\n",
        "          'rel1', 'rel2', 'rel3', 'rel4', 'rel5','rel6', 'rel7', 'rel8', 'rel9', 'rel10',\n",
        "          'wrng1', 'wrng2', 'wrng3', 'wrng4', 'wrng5'\n",
        "\n",
        "          ]\n",
        "scores = final_score_ml\n",
        "ax.bar(answer,scores)\n",
        "plt.show()"
      ],
      "execution_count": 89,
      "outputs": [
        {
          "output_type": "display_data",
          "data": {
            "image/png": "[encoded data removed]",
            "text/plain": [
              "<Figure size 432x288 with 1 Axes>"
            ]
          },
          "metadata": {
            "tags": [],
            "needs_background": "light"
          }
        }
      ]
    },
    {
      "cell_type": "code",
      "metadata": {
        "colab": {
          "base_uri": "https://localhost:8080/"
        },
        "id": "Z-p087wKqGRQ",
        "outputId": "cb89d5ba-5326-40d0-8776-98652ee31cba"
      },
      "source": [
        "final_score_java = (0.2 * (np.array(skill_score_java)/100)) + (0.8 * np.array(bert_score_java))\n",
        "final_score_java"
      ],
      "execution_count": 82,
      "outputs": [
        {
          "output_type": "execute_result",
          "data": {
            "text/plain": [
              "array([1.00000001, 0.57800006, 0.54000003, 0.72880003, 0.65400003,\n",
              "       0.73920003, 0.71840004, 0.62560002, 0.77480005, 0.7084    ,\n",
              "       0.57440001, 0.5324    , 0.4752    , 0.55319999, 0.60720003,\n",
              "       0.65600002, 0.64880002, 0.66000003, 0.59759998, 0.4664    ,\n",
              "       0.52080005, 0.27360001, 0.35440001, 0.28480002, 0.20320001,\n",
              "       0.36240003])"
            ]
          },
          "metadata": {
            "tags": []
          },
          "execution_count": 82
        }
      ]
    },
    {
      "cell_type": "code",
      "metadata": {
        "colab": {
          "base_uri": "https://localhost:8080/",
          "height": 715
        },
        "id": "4yzVcRlUqqxW",
        "outputId": "c90d557d-ab39-48b1-9e3d-e75afe2f3291"
      },
      "source": [
        "import matplotlib.pyplot as plt\n",
        "fig = plt.figure()\n",
        "ax = fig.add_axes([1,1,2.5,2.5])\n",
        "ax.set_title('Evaluated Marks for Machine learning Answers')\n",
        "answer = ['answer',\n",
        "          'Corr1', 'Corr2', 'Corr3', 'Corr4', 'Corr5','Corr6', 'Corr7', 'Corr8', 'Corr9', 'Corr10',\n",
        "          'rel1', 'rel2', 'rel3', 'rel4', 'rel5','rel6', 'rel7', 'rel8', 'rel9', 'rel10',\n",
        "          'wrng1', 'wrng2', 'wrng3', 'wrng4', 'wrng5'\n",
        "\n",
        "          ]\n",
        "scores = final_score_java\n",
        "ax.bar(answer,scores)\n",
        "plt.show()"
      ],
      "execution_count": 88,
      "outputs": [
        {
          "output_type": "display_data",
          "data": {
            "image/png": "[encoded data removed]",
            "text/plain": [
              "<Figure size 432x288 with 1 Axes>"
            ]
          },
          "metadata": {
            "tags": [],
            "needs_background": "light"
          }
        }
      ]
    },
    {
      "cell_type": "code",
      "metadata": {
        "id": "6yzu43efh8EB"
      },
      "source": [
        ""
      ],
      "execution_count": null,
      "outputs": []
    }
  ]
}