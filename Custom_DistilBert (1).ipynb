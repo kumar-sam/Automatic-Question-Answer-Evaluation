{
  "nbformat": 4,
  "nbformat_minor": 0,
  "metadata": {
    "kernelspec": {
      "display_name": "Python 3",
      "language": "python",
      "name": "python3"
    },
    "language_info": {
      "codemirror_mode": {
        "name": "ipython",
        "version": 3
      },
      "file_extension": ".py",
      "mimetype": "text/x-python",
      "name": "python",
      "nbconvert_exporter": "python",
      "pygments_lexer": "ipython3",
      "version": "3.8.5"
    },
    "colab": {
      "name": "Custom_DistilBert.ipynb",
      "provenance": []
    },
    "widgets": {
      "application/vnd.jupyter.widget-state+json": {
        "5e99f43b78074c4b8c14966d0ce235b7": {
          "model_module": "@jupyter-widgets/controls",
          "model_name": "HBoxModel",
          "state": {
            "_view_name": "HBoxView",
            "_dom_classes": [],
            "_model_name": "HBoxModel",
            "_view_module": "@jupyter-widgets/controls",
            "_model_module_version": "1.5.0",
            "_view_count": null,
            "_view_module_version": "1.5.0",
            "box_style": "",
            "layout": "IPY_MODEL_aff390749f8e4b62b5d330815baaa5a2",
            "_model_module": "@jupyter-widgets/controls",
            "children": [
              "IPY_MODEL_68f82e822c654167b54ab2481a96b6a2",
              "IPY_MODEL_3801c89a20134eeeae628fbe1c605474"
            ]
          }
        },
        "aff390749f8e4b62b5d330815baaa5a2": {
          "model_module": "@jupyter-widgets/base",
          "model_name": "LayoutModel",
          "state": {
            "_view_name": "LayoutView",
            "grid_template_rows": null,
            "right": null,
            "justify_content": null,
            "_view_module": "@jupyter-widgets/base",
            "overflow": null,
            "_model_module_version": "1.2.0",
            "_view_count": null,
            "flex_flow": null,
            "width": null,
            "min_width": null,
            "border": null,
            "align_items": null,
            "bottom": null,
            "_model_module": "@jupyter-widgets/base",
            "top": null,
            "grid_column": null,
            "overflow_y": null,
            "overflow_x": null,
            "grid_auto_flow": null,
            "grid_area": null,
            "grid_template_columns": null,
            "flex": null,
            "_model_name": "LayoutModel",
            "justify_items": null,
            "grid_row": null,
            "max_height": null,
            "align_content": null,
            "visibility": null,
            "align_self": null,
            "height": null,
            "min_height": null,
            "padding": null,
            "grid_auto_rows": null,
            "grid_gap": null,
            "max_width": null,
            "order": null,
            "_view_module_version": "1.2.0",
            "grid_template_areas": null,
            "object_position": null,
            "object_fit": null,
            "grid_auto_columns": null,
            "margin": null,
            "display": null,
            "left": null
          }
        },
        "68f82e822c654167b54ab2481a96b6a2": {
          "model_module": "@jupyter-widgets/controls",
          "model_name": "FloatProgressModel",
          "state": {
            "_view_name": "ProgressView",
            "style": "IPY_MODEL_b2ae8f96191a413bb6da9acce08b30c3",
            "_dom_classes": [],
            "description": "Downloading: 100%",
            "_model_name": "FloatProgressModel",
            "bar_style": "success",
            "max": 231508,
            "_view_module": "@jupyter-widgets/controls",
            "_model_module_version": "1.5.0",
            "value": 231508,
            "_view_count": null,
            "_view_module_version": "1.5.0",
            "orientation": "horizontal",
            "min": 0,
            "description_tooltip": null,
            "_model_module": "@jupyter-widgets/controls",
            "layout": "IPY_MODEL_6307a5e0e20943b995b81279561474bc"
          }
        },
        "3801c89a20134eeeae628fbe1c605474": {
          "model_module": "@jupyter-widgets/controls",
          "model_name": "HTMLModel",
          "state": {
            "_view_name": "HTMLView",
            "style": "IPY_MODEL_3dd47d503a514e43992ffe22f6364bc6",
            "_dom_classes": [],
            "description": "",
            "_model_name": "HTMLModel",
            "placeholder": "​",
            "_view_module": "@jupyter-widgets/controls",
            "_model_module_version": "1.5.0",
            "value": " 232k/232k [00:00&lt;00:00, 363kB/s]",
            "_view_count": null,
            "_view_module_version": "1.5.0",
            "description_tooltip": null,
            "_model_module": "@jupyter-widgets/controls",
            "layout": "IPY_MODEL_a1a8aa4882514fdabb47719b68ba4336"
          }
        },
        "b2ae8f96191a413bb6da9acce08b30c3": {
          "model_module": "@jupyter-widgets/controls",
          "model_name": "ProgressStyleModel",
          "state": {
            "_view_name": "StyleView",
            "_model_name": "ProgressStyleModel",
            "description_width": "initial",
            "_view_module": "@jupyter-widgets/base",
            "_model_module_version": "1.5.0",
            "_view_count": null,
            "_view_module_version": "1.2.0",
            "bar_color": null,
            "_model_module": "@jupyter-widgets/controls"
          }
        },
        "6307a5e0e20943b995b81279561474bc": {
          "model_module": "@jupyter-widgets/base",
          "model_name": "LayoutModel",
          "state": {
            "_view_name": "LayoutView",
            "grid_template_rows": null,
            "right": null,
            "justify_content": null,
            "_view_module": "@jupyter-widgets/base",
            "overflow": null,
            "_model_module_version": "1.2.0",
            "_view_count": null,
            "flex_flow": null,
            "width": null,
            "min_width": null,
            "border": null,
            "align_items": null,
            "bottom": null,
            "_model_module": "@jupyter-widgets/base",
            "top": null,
            "grid_column": null,
            "overflow_y": null,
            "overflow_x": null,
            "grid_auto_flow": null,
            "grid_area": null,
            "grid_template_columns": null,
            "flex": null,
            "_model_name": "LayoutModel",
            "justify_items": null,
            "grid_row": null,
            "max_height": null,
            "align_content": null,
            "visibility": null,
            "align_self": null,
            "height": null,
            "min_height": null,
            "padding": null,
            "grid_auto_rows": null,
            "grid_gap": null,
            "max_width": null,
            "order": null,
            "_view_module_version": "1.2.0",
            "grid_template_areas": null,
            "object_position": null,
            "object_fit": null,
            "grid_auto_columns": null,
            "margin": null,
            "display": null,
            "left": null
          }
        },
        "3dd47d503a514e43992ffe22f6364bc6": {
          "model_module": "@jupyter-widgets/controls",
          "model_name": "DescriptionStyleModel",
          "state": {
            "_view_name": "StyleView",
            "_model_name": "DescriptionStyleModel",
            "description_width": "",
            "_view_module": "@jupyter-widgets/base",
            "_model_module_version": "1.5.0",
            "_view_count": null,
            "_view_module_version": "1.2.0",
            "_model_module": "@jupyter-widgets/controls"
          }
        },
        "a1a8aa4882514fdabb47719b68ba4336": {
          "model_module": "@jupyter-widgets/base",
          "model_name": "LayoutModel",
          "state": {
            "_view_name": "LayoutView",
            "grid_template_rows": null,
            "right": null,
            "justify_content": null,
            "_view_module": "@jupyter-widgets/base",
            "overflow": null,
            "_model_module_version": "1.2.0",
            "_view_count": null,
            "flex_flow": null,
            "width": null,
            "min_width": null,
            "border": null,
            "align_items": null,
            "bottom": null,
            "_model_module": "@jupyter-widgets/base",
            "top": null,
            "grid_column": null,
            "overflow_y": null,
            "overflow_x": null,
            "grid_auto_flow": null,
            "grid_area": null,
            "grid_template_columns": null,
            "flex": null,
            "_model_name": "LayoutModel",
            "justify_items": null,
            "grid_row": null,
            "max_height": null,
            "align_content": null,
            "visibility": null,
            "align_self": null,
            "height": null,
            "min_height": null,
            "padding": null,
            "grid_auto_rows": null,
            "grid_gap": null,
            "max_width": null,
            "order": null,
            "_view_module_version": "1.2.0",
            "grid_template_areas": null,
            "object_position": null,
            "object_fit": null,
            "grid_auto_columns": null,
            "margin": null,
            "display": null,
            "left": null
          }
        },
        "600ce832ea9244f8b9e70339363018e7": {
          "model_module": "@jupyter-widgets/controls",
          "model_name": "HBoxModel",
          "state": {
            "_view_name": "HBoxView",
            "_dom_classes": [],
            "_model_name": "HBoxModel",
            "_view_module": "@jupyter-widgets/controls",
            "_model_module_version": "1.5.0",
            "_view_count": null,
            "_view_module_version": "1.5.0",
            "box_style": "",
            "layout": "IPY_MODEL_9703737cd47b4d7d8fcca6b2237dd8e7",
            "_model_module": "@jupyter-widgets/controls",
            "children": [
              "IPY_MODEL_498f0bf85df94026a20945014c41d62f",
              "IPY_MODEL_e361da0ec4104756875f6f8d0285fc7c"
            ]
          }
        },
        "9703737cd47b4d7d8fcca6b2237dd8e7": {
          "model_module": "@jupyter-widgets/base",
          "model_name": "LayoutModel",
          "state": {
            "_view_name": "LayoutView",
            "grid_template_rows": null,
            "right": null,
            "justify_content": null,
            "_view_module": "@jupyter-widgets/base",
            "overflow": null,
            "_model_module_version": "1.2.0",
            "_view_count": null,
            "flex_flow": null,
            "width": null,
            "min_width": null,
            "border": null,
            "align_items": null,
            "bottom": null,
            "_model_module": "@jupyter-widgets/base",
            "top": null,
            "grid_column": null,
            "overflow_y": null,
            "overflow_x": null,
            "grid_auto_flow": null,
            "grid_area": null,
            "grid_template_columns": null,
            "flex": null,
            "_model_name": "LayoutModel",
            "justify_items": null,
            "grid_row": null,
            "max_height": null,
            "align_content": null,
            "visibility": null,
            "align_self": null,
            "height": null,
            "min_height": null,
            "padding": null,
            "grid_auto_rows": null,
            "grid_gap": null,
            "max_width": null,
            "order": null,
            "_view_module_version": "1.2.0",
            "grid_template_areas": null,
            "object_position": null,
            "object_fit": null,
            "grid_auto_columns": null,
            "margin": null,
            "display": null,
            "left": null
          }
        },
        "498f0bf85df94026a20945014c41d62f": {
          "model_module": "@jupyter-widgets/controls",
          "model_name": "FloatProgressModel",
          "state": {
            "_view_name": "ProgressView",
            "style": "IPY_MODEL_4c63df7fea47445eaf7985c584481175",
            "_dom_classes": [],
            "description": "Downloading: 100%",
            "_model_name": "FloatProgressModel",
            "bar_style": "success",
            "max": 442,
            "_view_module": "@jupyter-widgets/controls",
            "_model_module_version": "1.5.0",
            "value": 442,
            "_view_count": null,
            "_view_module_version": "1.5.0",
            "orientation": "horizontal",
            "min": 0,
            "description_tooltip": null,
            "_model_module": "@jupyter-widgets/controls",
            "layout": "IPY_MODEL_9b73b9d81dec4d55b8bb13a1a8769feb"
          }
        },
        "e361da0ec4104756875f6f8d0285fc7c": {
          "model_module": "@jupyter-widgets/controls",
          "model_name": "HTMLModel",
          "state": {
            "_view_name": "HTMLView",
            "style": "IPY_MODEL_4a0bbb9bc36d4cd4a7d387a5dfa256a1",
            "_dom_classes": [],
            "description": "",
            "_model_name": "HTMLModel",
            "placeholder": "​",
            "_view_module": "@jupyter-widgets/controls",
            "_model_module_version": "1.5.0",
            "value": " 442/442 [00:06&lt;00:00, 71.9B/s]",
            "_view_count": null,
            "_view_module_version": "1.5.0",
            "description_tooltip": null,
            "_model_module": "@jupyter-widgets/controls",
            "layout": "IPY_MODEL_b32cda5b481b49be8d821b25910dab08"
          }
        },
        "4c63df7fea47445eaf7985c584481175": {
          "model_module": "@jupyter-widgets/controls",
          "model_name": "ProgressStyleModel",
          "state": {
            "_view_name": "StyleView",
            "_model_name": "ProgressStyleModel",
            "description_width": "initial",
            "_view_module": "@jupyter-widgets/base",
            "_model_module_version": "1.5.0",
            "_view_count": null,
            "_view_module_version": "1.2.0",
            "bar_color": null,
            "_model_module": "@jupyter-widgets/controls"
          }
        },
        "9b73b9d81dec4d55b8bb13a1a8769feb": {
          "model_module": "@jupyter-widgets/base",
          "model_name": "LayoutModel",
          "state": {
            "_view_name": "LayoutView",
            "grid_template_rows": null,
            "right": null,
            "justify_content": null,
            "_view_module": "@jupyter-widgets/base",
            "overflow": null,
            "_model_module_version": "1.2.0",
            "_view_count": null,
            "flex_flow": null,
            "width": null,
            "min_width": null,
            "border": null,
            "align_items": null,
            "bottom": null,
            "_model_module": "@jupyter-widgets/base",
            "top": null,
            "grid_column": null,
            "overflow_y": null,
            "overflow_x": null,
            "grid_auto_flow": null,
            "grid_area": null,
            "grid_template_columns": null,
            "flex": null,
            "_model_name": "LayoutModel",
            "justify_items": null,
            "grid_row": null,
            "max_height": null,
            "align_content": null,
            "visibility": null,
            "align_self": null,
            "height": null,
            "min_height": null,
            "padding": null,
            "grid_auto_rows": null,
            "grid_gap": null,
            "max_width": null,
            "order": null,
            "_view_module_version": "1.2.0",
            "grid_template_areas": null,
            "object_position": null,
            "object_fit": null,
            "grid_auto_columns": null,
            "margin": null,
            "display": null,
            "left": null
          }
        },
        "4a0bbb9bc36d4cd4a7d387a5dfa256a1": {
          "model_module": "@jupyter-widgets/controls",
          "model_name": "DescriptionStyleModel",
          "state": {
            "_view_name": "StyleView",
            "_model_name": "DescriptionStyleModel",
            "description_width": "",
            "_view_module": "@jupyter-widgets/base",
            "_model_module_version": "1.5.0",
            "_view_count": null,
            "_view_module_version": "1.2.0",
            "_model_module": "@jupyter-widgets/controls"
          }
        },
        "b32cda5b481b49be8d821b25910dab08": {
          "model_module": "@jupyter-widgets/base",
          "model_name": "LayoutModel",
          "state": {
            "_view_name": "LayoutView",
            "grid_template_rows": null,
            "right": null,
            "justify_content": null,
            "_view_module": "@jupyter-widgets/base",
            "overflow": null,
            "_model_module_version": "1.2.0",
            "_view_count": null,
            "flex_flow": null,
            "width": null,
            "min_width": null,
            "border": null,
            "align_items": null,
            "bottom": null,
            "_model_module": "@jupyter-widgets/base",
            "top": null,
            "grid_column": null,
            "overflow_y": null,
            "overflow_x": null,
            "grid_auto_flow": null,
            "grid_area": null,
            "grid_template_columns": null,
            "flex": null,
            "_model_name": "LayoutModel",
            "justify_items": null,
            "grid_row": null,
            "max_height": null,
            "align_content": null,
            "visibility": null,
            "align_self": null,
            "height": null,
            "min_height": null,
            "padding": null,
            "grid_auto_rows": null,
            "grid_gap": null,
            "max_width": null,
            "order": null,
            "_view_module_version": "1.2.0",
            "grid_template_areas": null,
            "object_position": null,
            "object_fit": null,
            "grid_auto_columns": null,
            "margin": null,
            "display": null,
            "left": null
          }
        },
        "f2461ba3b4de4bb792d727f3b99f7ed0": {
          "model_module": "@jupyter-widgets/controls",
          "model_name": "HBoxModel",
          "state": {
            "_view_name": "HBoxView",
            "_dom_classes": [],
            "_model_name": "HBoxModel",
            "_view_module": "@jupyter-widgets/controls",
            "_model_module_version": "1.5.0",
            "_view_count": null,
            "_view_module_version": "1.5.0",
            "box_style": "",
            "layout": "IPY_MODEL_160a467d463a488da4330604a7d7b863",
            "_model_module": "@jupyter-widgets/controls",
            "children": [
              "IPY_MODEL_e406825f59304ad28c397b2bb0838bc5",
              "IPY_MODEL_3309605fd4424b0ea3aa397411e0a68a"
            ]
          }
        },
        "160a467d463a488da4330604a7d7b863": {
          "model_module": "@jupyter-widgets/base",
          "model_name": "LayoutModel",
          "state": {
            "_view_name": "LayoutView",
            "grid_template_rows": null,
            "right": null,
            "justify_content": null,
            "_view_module": "@jupyter-widgets/base",
            "overflow": null,
            "_model_module_version": "1.2.0",
            "_view_count": null,
            "flex_flow": null,
            "width": null,
            "min_width": null,
            "border": null,
            "align_items": null,
            "bottom": null,
            "_model_module": "@jupyter-widgets/base",
            "top": null,
            "grid_column": null,
            "overflow_y": null,
            "overflow_x": null,
            "grid_auto_flow": null,
            "grid_area": null,
            "grid_template_columns": null,
            "flex": null,
            "_model_name": "LayoutModel",
            "justify_items": null,
            "grid_row": null,
            "max_height": null,
            "align_content": null,
            "visibility": null,
            "align_self": null,
            "height": null,
            "min_height": null,
            "padding": null,
            "grid_auto_rows": null,
            "grid_gap": null,
            "max_width": null,
            "order": null,
            "_view_module_version": "1.2.0",
            "grid_template_areas": null,
            "object_position": null,
            "object_fit": null,
            "grid_auto_columns": null,
            "margin": null,
            "display": null,
            "left": null
          }
        },
        "e406825f59304ad28c397b2bb0838bc5": {
          "model_module": "@jupyter-widgets/controls",
          "model_name": "FloatProgressModel",
          "state": {
            "_view_name": "ProgressView",
            "style": "IPY_MODEL_af1ef404d2994867965f3a111b59cea2",
            "_dom_classes": [],
            "description": "Downloading: 100%",
            "_model_name": "FloatProgressModel",
            "bar_style": "success",
            "max": 267967963,
            "_view_module": "@jupyter-widgets/controls",
            "_model_module_version": "1.5.0",
            "value": 267967963,
            "_view_count": null,
            "_view_module_version": "1.5.0",
            "orientation": "horizontal",
            "min": 0,
            "description_tooltip": null,
            "_model_module": "@jupyter-widgets/controls",
            "layout": "IPY_MODEL_0c4e0a23bcd94ad58a815dbccdc3e1f5"
          }
        },
        "3309605fd4424b0ea3aa397411e0a68a": {
          "model_module": "@jupyter-widgets/controls",
          "model_name": "HTMLModel",
          "state": {
            "_view_name": "HTMLView",
            "style": "IPY_MODEL_d68fd1814c854cb495da30b2cb82e3a3",
            "_dom_classes": [],
            "description": "",
            "_model_name": "HTMLModel",
            "placeholder": "​",
            "_view_module": "@jupyter-widgets/controls",
            "_model_module_version": "1.5.0",
            "value": " 268M/268M [00:05&lt;00:00, 47.8MB/s]",
            "_view_count": null,
            "_view_module_version": "1.5.0",
            "description_tooltip": null,
            "_model_module": "@jupyter-widgets/controls",
            "layout": "IPY_MODEL_0586d05c77534d9caee619f79e4a81d8"
          }
        },
        "af1ef404d2994867965f3a111b59cea2": {
          "model_module": "@jupyter-widgets/controls",
          "model_name": "ProgressStyleModel",
          "state": {
            "_view_name": "StyleView",
            "_model_name": "ProgressStyleModel",
            "description_width": "initial",
            "_view_module": "@jupyter-widgets/base",
            "_model_module_version": "1.5.0",
            "_view_count": null,
            "_view_module_version": "1.2.0",
            "bar_color": null,
            "_model_module": "@jupyter-widgets/controls"
          }
        },
        "0c4e0a23bcd94ad58a815dbccdc3e1f5": {
          "model_module": "@jupyter-widgets/base",
          "model_name": "LayoutModel",
          "state": {
            "_view_name": "LayoutView",
            "grid_template_rows": null,
            "right": null,
            "justify_content": null,
            "_view_module": "@jupyter-widgets/base",
            "overflow": null,
            "_model_module_version": "1.2.0",
            "_view_count": null,
            "flex_flow": null,
            "width": null,
            "min_width": null,
            "border": null,
            "align_items": null,
            "bottom": null,
            "_model_module": "@jupyter-widgets/base",
            "top": null,
            "grid_column": null,
            "overflow_y": null,
            "overflow_x": null,
            "grid_auto_flow": null,
            "grid_area": null,
            "grid_template_columns": null,
            "flex": null,
            "_model_name": "LayoutModel",
            "justify_items": null,
            "grid_row": null,
            "max_height": null,
            "align_content": null,
            "visibility": null,
            "align_self": null,
            "height": null,
            "min_height": null,
            "padding": null,
            "grid_auto_rows": null,
            "grid_gap": null,
            "max_width": null,
            "order": null,
            "_view_module_version": "1.2.0",
            "grid_template_areas": null,
            "object_position": null,
            "object_fit": null,
            "grid_auto_columns": null,
            "margin": null,
            "display": null,
            "left": null
          }
        },
        "d68fd1814c854cb495da30b2cb82e3a3": {
          "model_module": "@jupyter-widgets/controls",
          "model_name": "DescriptionStyleModel",
          "state": {
            "_view_name": "StyleView",
            "_model_name": "DescriptionStyleModel",
            "description_width": "",
            "_view_module": "@jupyter-widgets/base",
            "_model_module_version": "1.5.0",
            "_view_count": null,
            "_view_module_version": "1.2.0",
            "_model_module": "@jupyter-widgets/controls"
          }
        },
        "0586d05c77534d9caee619f79e4a81d8": {
          "model_module": "@jupyter-widgets/base",
          "model_name": "LayoutModel",
          "state": {
            "_view_name": "LayoutView",
            "grid_template_rows": null,
            "right": null,
            "justify_content": null,
            "_view_module": "@jupyter-widgets/base",
            "overflow": null,
            "_model_module_version": "1.2.0",
            "_view_count": null,
            "flex_flow": null,
            "width": null,
            "min_width": null,
            "border": null,
            "align_items": null,
            "bottom": null,
            "_model_module": "@jupyter-widgets/base",
            "top": null,
            "grid_column": null,
            "overflow_y": null,
            "overflow_x": null,
            "grid_auto_flow": null,
            "grid_area": null,
            "grid_template_columns": null,
            "flex": null,
            "_model_name": "LayoutModel",
            "justify_items": null,
            "grid_row": null,
            "max_height": null,
            "align_content": null,
            "visibility": null,
            "align_self": null,
            "height": null,
            "min_height": null,
            "padding": null,
            "grid_auto_rows": null,
            "grid_gap": null,
            "max_width": null,
            "order": null,
            "_view_module_version": "1.2.0",
            "grid_template_areas": null,
            "object_position": null,
            "object_fit": null,
            "grid_auto_columns": null,
            "margin": null,
            "display": null,
            "left": null
          }
        }
      }
    }
  },
  "cells": [
    {
      "cell_type": "code",
      "metadata": {
        "colab": {
          "base_uri": "https://localhost:8080/"
        },
        "id": "dR8JqE7MwtL1",
        "outputId": "461fc29d-deec-4160-e320-48bbbe2782f4"
      },
      "source": [
        "!pip install tensorflow==2.0\n",
        "!pip install transformers==2.11.0\n",
        "!pip list | grep -E 'transformers|tokenizers'"
      ],
      "execution_count": 3,
      "outputs": [
        {
          "output_type": "stream",
          "text": [
            "Collecting tensorflow==2.0\n",
            "\u001b[?25l  Downloading https://files.pythonhosted.org/packages/46/0f/7bd55361168bb32796b360ad15a25de6966c9c1beb58a8e30c01c8279862/tensorflow-2.0.0-cp36-cp36m-manylinux2010_x86_64.whl (86.3MB)\n",
            "\u001b[K     |████████████████████████████████| 86.3MB 70kB/s \n",
            "\u001b[?25hRequirement already satisfied: protobuf>=3.6.1 in /usr/local/lib/python3.6/dist-packages (from tensorflow==2.0) (3.12.4)\n",
            "Requirement already satisfied: numpy<2.0,>=1.16.0 in /usr/local/lib/python3.6/dist-packages (from tensorflow==2.0) (1.18.5)\n",
            "Collecting tensorflow-estimator<2.1.0,>=2.0.0\n",
            "\u001b[?25l  Downloading https://files.pythonhosted.org/packages/fc/08/8b927337b7019c374719145d1dceba21a8bb909b93b1ad6f8fb7d22c1ca1/tensorflow_estimator-2.0.1-py2.py3-none-any.whl (449kB)\n",
            "\u001b[K     |████████████████████████████████| 450kB 33.1MB/s \n",
            "\u001b[?25hCollecting gast==0.2.2\n",
            "  Downloading https://files.pythonhosted.org/packages/4e/35/11749bf99b2d4e3cceb4d55ca22590b0d7c2c62b9de38ac4a4a7f4687421/gast-0.2.2.tar.gz\n",
            "Requirement already satisfied: wheel>=0.26 in /usr/local/lib/python3.6/dist-packages (from tensorflow==2.0) (0.35.1)\n",
            "Requirement already satisfied: opt-einsum>=2.3.2 in /usr/local/lib/python3.6/dist-packages (from tensorflow==2.0) (3.3.0)\n",
            "Requirement already satisfied: absl-py>=0.7.0 in /usr/local/lib/python3.6/dist-packages (from tensorflow==2.0) (0.10.0)\n",
            "Requirement already satisfied: six>=1.10.0 in /usr/local/lib/python3.6/dist-packages (from tensorflow==2.0) (1.15.0)\n",
            "Requirement already satisfied: termcolor>=1.1.0 in /usr/local/lib/python3.6/dist-packages (from tensorflow==2.0) (1.1.0)\n",
            "Requirement already satisfied: grpcio>=1.8.6 in /usr/local/lib/python3.6/dist-packages (from tensorflow==2.0) (1.33.2)\n",
            "Requirement already satisfied: google-pasta>=0.1.6 in /usr/local/lib/python3.6/dist-packages (from tensorflow==2.0) (0.2.0)\n",
            "Requirement already satisfied: astor>=0.6.0 in /usr/local/lib/python3.6/dist-packages (from tensorflow==2.0) (0.8.1)\n",
            "Collecting tensorboard<2.1.0,>=2.0.0\n",
            "\u001b[?25l  Downloading https://files.pythonhosted.org/packages/76/54/99b9d5d52d5cb732f099baaaf7740403e83fe6b0cedde940fabd2b13d75a/tensorboard-2.0.2-py3-none-any.whl (3.8MB)\n",
            "\u001b[K     |████████████████████████████████| 3.8MB 42.0MB/s \n",
            "\u001b[?25hCollecting keras-applications>=1.0.8\n",
            "\u001b[?25l  Downloading https://files.pythonhosted.org/packages/71/e3/19762fdfc62877ae9102edf6342d71b28fbfd9dea3d2f96a882ce099b03f/Keras_Applications-1.0.8-py3-none-any.whl (50kB)\n",
            "\u001b[K     |████████████████████████████████| 51kB 5.5MB/s \n",
            "\u001b[?25hRequirement already satisfied: keras-preprocessing>=1.0.5 in /usr/local/lib/python3.6/dist-packages (from tensorflow==2.0) (1.1.2)\n",
            "Requirement already satisfied: wrapt>=1.11.1 in /usr/local/lib/python3.6/dist-packages (from tensorflow==2.0) (1.12.1)\n",
            "Requirement already satisfied: setuptools in /usr/local/lib/python3.6/dist-packages (from protobuf>=3.6.1->tensorflow==2.0) (50.3.2)\n",
            "Requirement already satisfied: markdown>=2.6.8 in /usr/local/lib/python3.6/dist-packages (from tensorboard<2.1.0,>=2.0.0->tensorflow==2.0) (3.3.3)\n",
            "Requirement already satisfied: google-auth-oauthlib<0.5,>=0.4.1 in /usr/local/lib/python3.6/dist-packages (from tensorboard<2.1.0,>=2.0.0->tensorflow==2.0) (0.4.2)\n",
            "Requirement already satisfied: requests<3,>=2.21.0 in /usr/local/lib/python3.6/dist-packages (from tensorboard<2.1.0,>=2.0.0->tensorflow==2.0) (2.23.0)\n",
            "Requirement already satisfied: werkzeug>=0.11.15 in /usr/local/lib/python3.6/dist-packages (from tensorboard<2.1.0,>=2.0.0->tensorflow==2.0) (1.0.1)\n",
            "Requirement already satisfied: google-auth<2,>=1.6.3 in /usr/local/lib/python3.6/dist-packages (from tensorboard<2.1.0,>=2.0.0->tensorflow==2.0) (1.17.2)\n",
            "Requirement already satisfied: h5py in /usr/local/lib/python3.6/dist-packages (from keras-applications>=1.0.8->tensorflow==2.0) (2.10.0)\n",
            "Requirement already satisfied: importlib-metadata; python_version < \"3.8\" in /usr/local/lib/python3.6/dist-packages (from markdown>=2.6.8->tensorboard<2.1.0,>=2.0.0->tensorflow==2.0) (2.0.0)\n",
            "Requirement already satisfied: requests-oauthlib>=0.7.0 in /usr/local/lib/python3.6/dist-packages (from google-auth-oauthlib<0.5,>=0.4.1->tensorboard<2.1.0,>=2.0.0->tensorflow==2.0) (1.3.0)\n",
            "Requirement already satisfied: chardet<4,>=3.0.2 in /usr/local/lib/python3.6/dist-packages (from requests<3,>=2.21.0->tensorboard<2.1.0,>=2.0.0->tensorflow==2.0) (3.0.4)\n",
            "Requirement already satisfied: idna<3,>=2.5 in /usr/local/lib/python3.6/dist-packages (from requests<3,>=2.21.0->tensorboard<2.1.0,>=2.0.0->tensorflow==2.0) (2.10)\n",
            "Requirement already satisfied: certifi>=2017.4.17 in /usr/local/lib/python3.6/dist-packages (from requests<3,>=2.21.0->tensorboard<2.1.0,>=2.0.0->tensorflow==2.0) (2020.6.20)\n",
            "Requirement already satisfied: urllib3!=1.25.0,!=1.25.1,<1.26,>=1.21.1 in /usr/local/lib/python3.6/dist-packages (from requests<3,>=2.21.0->tensorboard<2.1.0,>=2.0.0->tensorflow==2.0) (1.24.3)\n",
            "Requirement already satisfied: pyasn1-modules>=0.2.1 in /usr/local/lib/python3.6/dist-packages (from google-auth<2,>=1.6.3->tensorboard<2.1.0,>=2.0.0->tensorflow==2.0) (0.2.8)\n",
            "Requirement already satisfied: cachetools<5.0,>=2.0.0 in /usr/local/lib/python3.6/dist-packages (from google-auth<2,>=1.6.3->tensorboard<2.1.0,>=2.0.0->tensorflow==2.0) (4.1.1)\n",
            "Requirement already satisfied: rsa<5,>=3.1.4; python_version >= \"3\" in /usr/local/lib/python3.6/dist-packages (from google-auth<2,>=1.6.3->tensorboard<2.1.0,>=2.0.0->tensorflow==2.0) (4.6)\n",
            "Requirement already satisfied: zipp>=0.5 in /usr/local/lib/python3.6/dist-packages (from importlib-metadata; python_version < \"3.8\"->markdown>=2.6.8->tensorboard<2.1.0,>=2.0.0->tensorflow==2.0) (3.4.0)\n",
            "Requirement already satisfied: oauthlib>=3.0.0 in /usr/local/lib/python3.6/dist-packages (from requests-oauthlib>=0.7.0->google-auth-oauthlib<0.5,>=0.4.1->tensorboard<2.1.0,>=2.0.0->tensorflow==2.0) (3.1.0)\n",
            "Requirement already satisfied: pyasn1<0.5.0,>=0.4.6 in /usr/local/lib/python3.6/dist-packages (from pyasn1-modules>=0.2.1->google-auth<2,>=1.6.3->tensorboard<2.1.0,>=2.0.0->tensorflow==2.0) (0.4.8)\n",
            "Building wheels for collected packages: gast\n",
            "  Building wheel for gast (setup.py) ... \u001b[?25l\u001b[?25hdone\n",
            "  Created wheel for gast: filename=gast-0.2.2-cp36-none-any.whl size=7542 sha256=63b4be90cd8c2a111520a75a7d9d971f2f9f6f72b454c2bc24a2a94812876934\n",
            "  Stored in directory: /root/.cache/pip/wheels/5c/2e/7e/a1d4d4fcebe6c381f378ce7743a3ced3699feb89bcfbdadadd\n",
            "Successfully built gast\n",
            "\u001b[31mERROR: tensorflow-probability 0.11.0 has requirement gast>=0.3.2, but you'll have gast 0.2.2 which is incompatible.\u001b[0m\n",
            "Installing collected packages: tensorflow-estimator, gast, tensorboard, keras-applications, tensorflow\n",
            "  Found existing installation: tensorflow-estimator 2.3.0\n",
            "    Uninstalling tensorflow-estimator-2.3.0:\n",
            "      Successfully uninstalled tensorflow-estimator-2.3.0\n",
            "  Found existing installation: gast 0.3.3\n",
            "    Uninstalling gast-0.3.3:\n",
            "      Successfully uninstalled gast-0.3.3\n",
            "  Found existing installation: tensorboard 2.3.0\n",
            "    Uninstalling tensorboard-2.3.0:\n",
            "      Successfully uninstalled tensorboard-2.3.0\n",
            "  Found existing installation: tensorflow 2.3.0\n",
            "    Uninstalling tensorflow-2.3.0:\n",
            "      Successfully uninstalled tensorflow-2.3.0\n",
            "Successfully installed gast-0.2.2 keras-applications-1.0.8 tensorboard-2.0.2 tensorflow-2.0.0 tensorflow-estimator-2.0.1\n",
            "Collecting transformers==2.11.0\n",
            "\u001b[?25l  Downloading https://files.pythonhosted.org/packages/48/35/ad2c5b1b8f99feaaf9d7cdadaeef261f098c6e1a6a2935d4d07662a6b780/transformers-2.11.0-py3-none-any.whl (674kB)\n",
            "\u001b[K     |████████████████████████████████| 675kB 5.4MB/s \n",
            "\u001b[?25hRequirement already satisfied: tqdm>=4.27 in /usr/local/lib/python3.6/dist-packages (from transformers==2.11.0) (4.41.1)\n",
            "Requirement already satisfied: filelock in /usr/local/lib/python3.6/dist-packages (from transformers==2.11.0) (3.0.12)\n",
            "Requirement already satisfied: requests in /usr/local/lib/python3.6/dist-packages (from transformers==2.11.0) (2.23.0)\n",
            "Requirement already satisfied: dataclasses; python_version < \"3.7\" in /usr/local/lib/python3.6/dist-packages (from transformers==2.11.0) (0.7)\n",
            "Requirement already satisfied: packaging in /usr/local/lib/python3.6/dist-packages (from transformers==2.11.0) (20.4)\n",
            "Collecting sacremoses\n",
            "\u001b[?25l  Downloading https://files.pythonhosted.org/packages/7d/34/09d19aff26edcc8eb2a01bed8e98f13a1537005d31e95233fd48216eed10/sacremoses-0.0.43.tar.gz (883kB)\n",
            "\u001b[K     |████████████████████████████████| 890kB 25.1MB/s \n",
            "\u001b[?25hRequirement already satisfied: regex!=2019.12.17 in /usr/local/lib/python3.6/dist-packages (from transformers==2.11.0) (2019.12.20)\n",
            "Collecting sentencepiece\n",
            "\u001b[?25l  Downloading https://files.pythonhosted.org/packages/e5/2d/6d4ca4bef9a67070fa1cac508606328329152b1df10bdf31fb6e4e727894/sentencepiece-0.1.94-cp36-cp36m-manylinux2014_x86_64.whl (1.1MB)\n",
            "\u001b[K     |████████████████████████████████| 1.1MB 42.4MB/s \n",
            "\u001b[?25hRequirement already satisfied: numpy in /usr/local/lib/python3.6/dist-packages (from transformers==2.11.0) (1.18.5)\n",
            "Collecting tokenizers==0.7.0\n",
            "\u001b[?25l  Downloading https://files.pythonhosted.org/packages/14/e5/a26eb4716523808bb0a799fcfdceb6ebf77a18169d9591b2f46a9adb87d9/tokenizers-0.7.0-cp36-cp36m-manylinux1_x86_64.whl (3.8MB)\n",
            "\u001b[K     |████████████████████████████████| 3.8MB 36.4MB/s \n",
            "\u001b[?25hRequirement already satisfied: urllib3!=1.25.0,!=1.25.1,<1.26,>=1.21.1 in /usr/local/lib/python3.6/dist-packages (from requests->transformers==2.11.0) (1.24.3)\n",
            "Requirement already satisfied: certifi>=2017.4.17 in /usr/local/lib/python3.6/dist-packages (from requests->transformers==2.11.0) (2020.6.20)\n",
            "Requirement already satisfied: idna<3,>=2.5 in /usr/local/lib/python3.6/dist-packages (from requests->transformers==2.11.0) (2.10)\n",
            "Requirement already satisfied: chardet<4,>=3.0.2 in /usr/local/lib/python3.6/dist-packages (from requests->transformers==2.11.0) (3.0.4)\n",
            "Requirement already satisfied: six in /usr/local/lib/python3.6/dist-packages (from packaging->transformers==2.11.0) (1.15.0)\n",
            "Requirement already satisfied: pyparsing>=2.0.2 in /usr/local/lib/python3.6/dist-packages (from packaging->transformers==2.11.0) (2.4.7)\n",
            "Requirement already satisfied: click in /usr/local/lib/python3.6/dist-packages (from sacremoses->transformers==2.11.0) (7.1.2)\n",
            "Requirement already satisfied: joblib in /usr/local/lib/python3.6/dist-packages (from sacremoses->transformers==2.11.0) (0.17.0)\n",
            "Building wheels for collected packages: sacremoses\n",
            "  Building wheel for sacremoses (setup.py) ... \u001b[?25l\u001b[?25hdone\n",
            "  Created wheel for sacremoses: filename=sacremoses-0.0.43-cp36-none-any.whl size=893257 sha256=a8b0f68cc05ba0812c50c9d5b407c929a13245077f876ebe68f249c7bf16f5ff\n",
            "  Stored in directory: /root/.cache/pip/wheels/29/3c/fd/7ce5c3f0666dab31a50123635e6fb5e19ceb42ce38d4e58f45\n",
            "Successfully built sacremoses\n",
            "Installing collected packages: sacremoses, sentencepiece, tokenizers, transformers\n",
            "Successfully installed sacremoses-0.0.43 sentencepiece-0.1.94 tokenizers-0.7.0 transformers-2.11.0\n",
            "tokenizers                    0.7.0          \n",
            "transformers                  2.11.0         \n"
          ],
          "name": "stdout"
        }
      ]
    },
    {
      "cell_type": "code",
      "metadata": {
        "colab": {
          "base_uri": "https://localhost:8080/"
        },
        "id": "7Y2p_DNZxa07",
        "outputId": "90e8c505-4866-463e-c2a5-eee55e2549ec"
      },
      "source": [
        "!nvidia-smi"
      ],
      "execution_count": 2,
      "outputs": [
        {
          "output_type": "stream",
          "text": [
            "Thu Nov 19 09:55:14 2020       \n",
            "+-----------------------------------------------------------------------------+\n",
            "| NVIDIA-SMI 455.38       Driver Version: 418.67       CUDA Version: 10.1     |\n",
            "|-------------------------------+----------------------+----------------------+\n",
            "| GPU  Name        Persistence-M| Bus-Id        Disp.A | Volatile Uncorr. ECC |\n",
            "| Fan  Temp  Perf  Pwr:Usage/Cap|         Memory-Usage | GPU-Util  Compute M. |\n",
            "|                               |                      |               MIG M. |\n",
            "|===============================+======================+======================|\n",
            "|   0  Tesla K80           Off  | 00000000:00:04.0 Off |                    0 |\n",
            "| N/A   47C    P8    33W / 149W |      0MiB / 11441MiB |      0%      Default |\n",
            "|                               |                      |                 ERR! |\n",
            "+-------------------------------+----------------------+----------------------+\n",
            "                                                                               \n",
            "+-----------------------------------------------------------------------------+\n",
            "| Processes:                                                                  |\n",
            "|  GPU   GI   CI        PID   Type   Process name                  GPU Memory |\n",
            "|        ID   ID                                                   Usage      |\n",
            "|=============================================================================|\n",
            "|  No running processes found                                                 |\n",
            "+-----------------------------------------------------------------------------+\n"
          ],
          "name": "stdout"
        }
      ]
    },
    {
      "cell_type": "code",
      "metadata": {
        "colab": {
          "base_uri": "https://localhost:8080/"
        },
        "id": "cE6jLZ03xuAW",
        "outputId": "bdec17d9-c8b8-4012-a06f-f199cea38be4"
      },
      "source": [
        "!nvcc --version"
      ],
      "execution_count": 3,
      "outputs": [
        {
          "output_type": "stream",
          "text": [
            "nvcc: NVIDIA (R) Cuda compiler driver\n",
            "Copyright (c) 2005-2019 NVIDIA Corporation\n",
            "Built on Sun_Jul_28_19:07:16_PDT_2019\n",
            "Cuda compilation tools, release 10.1, V10.1.243\n"
          ],
          "name": "stdout"
        }
      ]
    },
    {
      "cell_type": "code",
      "metadata": {
        "colab": {
          "base_uri": "https://localhost:8080/"
        },
        "id": "cCsadGJWxXCS",
        "outputId": "273c1d77-0059-4c3a-a091-d0c5b10b7880"
      },
      "source": [
        "!mkdir Wordpiece_distilBert_Tokenizer"
      ],
      "execution_count": 4,
      "outputs": [
        {
          "output_type": "stream",
          "text": [
            "mkdir: cannot create directory ‘Wordpiece_distilBert_Tokenizer’: File exists\n"
          ],
          "name": "stdout"
        }
      ]
    },
    {
      "cell_type": "code",
      "metadata": {
        "id": "6vUDs144w3b6"
      },
      "source": [
        "from tokenizers import BertWordPieceTokenizer\n",
        "\n",
        "# Initialize a tokenizer\n",
        "tokenizer = BertWordPieceTokenizer()\n",
        "\n",
        "# Then train it!\n",
        "tokenizer.train(files = [\"drive/MyDrive/tech_corpus_wikiAndTextBook.txt\"],min_frequency=2)\n",
        "\n"
      ],
      "execution_count": 5,
      "outputs": []
    },
    {
      "cell_type": "code",
      "metadata": {
        "colab": {
          "base_uri": "https://localhost:8080/"
        },
        "id": "0sRzaXU45RT_",
        "outputId": "b25ca686-c9f4-4531-a5fd-c93371d2fe5a"
      },
      "source": [
        "# And finally save it somewhere \n",
        "tokenizer.save(\"/content/Wordpiece_distilBert_Tokenizer\")\n",
        "#tokenizer.save_model('./Wordpiece_distilBert_Tokenizer')"
      ],
      "execution_count": 11,
      "outputs": [
        {
          "output_type": "execute_result",
          "data": {
            "text/plain": [
              "['/content/Wordpiece_distilBert_Tokenizer/vocab.txt']"
            ]
          },
          "metadata": {
            "tags": []
          },
          "execution_count": 11
        }
      ]
    },
    {
      "cell_type": "code",
      "metadata": {
        "colab": {
          "base_uri": "https://localhost:8080/"
        },
        "id": "-gvUpq7bz0z0",
        "outputId": "f0fd4489-bbc5-4cac-d0cc-eeb6f45b4dd5"
      },
      "source": [
        "from google.colab import drive\n",
        "drive.mount('/content/drive')"
      ],
      "execution_count": 7,
      "outputs": [
        {
          "output_type": "stream",
          "text": [
            "Drive already mounted at /content/drive; to attempt to forcibly remount, call drive.mount(\"/content/drive\", force_remount=True).\n"
          ],
          "name": "stdout"
        }
      ]
    },
    {
      "cell_type": "code",
      "metadata": {
        "colab": {
          "base_uri": "https://localhost:8080/"
        },
        "id": "XDzrvr9_wtL2",
        "outputId": "6c3efdfc-5e42-4ece-e72c-b82ba9076705"
      },
      "source": [
        "tokenizer.encode('java is a programming language').tokens"
      ],
      "execution_count": 12,
      "outputs": [
        {
          "output_type": "execute_result",
          "data": {
            "text/plain": [
              "['java', 'is', 'a', 'programming', 'language']"
            ]
          },
          "metadata": {
            "tags": []
          },
          "execution_count": 12
        }
      ]
    },
    {
      "cell_type": "code",
      "metadata": {
        "id": "gjz6Bwj5wtL2"
      },
      "source": [
        "from transformers import DistilBertTokenizerFast\n",
        "\n",
        "trained_tokenizer = DistilBertTokenizerFast.from_pretrained(\"./Wordpiece_distilBert_Tokenizer\", do_lower_case=True, add_special_tokens=True,\n",
        "                                                       pad_to_max_length=True)"
      ],
      "execution_count": 13,
      "outputs": []
    },
    {
      "cell_type": "code",
      "metadata": {
        "id": "VGfsNEQ8wtL2"
      },
      "source": [
        "from transformers import DistilBertConfig\n",
        "config = DistilBertConfig()"
      ],
      "execution_count": 14,
      "outputs": []
    },
    {
      "cell_type": "code",
      "metadata": {
        "id": "W7sT0Aquw1aU"
      },
      "source": [
        ""
      ],
      "execution_count": 14,
      "outputs": []
    },
    {
      "cell_type": "code",
      "metadata": {
        "id": "DYOo7gKrw2t4"
      },
      "source": [
        ""
      ],
      "execution_count": 14,
      "outputs": []
    },
    {
      "cell_type": "code",
      "metadata": {
        "id": "brUWhlo-wtL3"
      },
      "source": [
        "from transformers import DistilBertModel\n",
        "\n",
        "model = DistilBertModel(config=config)"
      ],
      "execution_count": 15,
      "outputs": []
    },
    {
      "cell_type": "code",
      "metadata": {
        "id": "62vfP4aRwtL3"
      },
      "source": [
        "%%time\n",
        "from transformers import LineByLineTextDataset\n",
        "\n",
        "dataset = LineByLineTextDataset(\n",
        "    tokenizer=trained_tokenizer,\n",
        "    file_path=\"drive/MyDrive/tech_corpus_wikiAndTextBook.txt\",\n",
        "    block_size=128,\n",
        ")"
      ],
      "execution_count": null,
      "outputs": []
    },
    {
      "cell_type": "code",
      "metadata": {
        "id": "JbTUv58XwtL3"
      },
      "source": [
        "from transformers import DataCollatorForLanguageModeling\n",
        "\n",
        "data_collator = DataCollatorForLanguageModeling(tokenizer=trained_tokenizer)"
      ],
      "execution_count": null,
      "outputs": []
    },
    {
      "cell_type": "code",
      "metadata": {
        "id": "b_S87vFr6el-"
      },
      "source": [
        "!mkdir Wordpiece_distilBert"
      ],
      "execution_count": null,
      "outputs": []
    },
    {
      "cell_type": "code",
      "metadata": {
        "id": "RRjk4jHzwtL3"
      },
      "source": [
        "from transformers import Trainer, TrainingArguments\n",
        "\n",
        "training_args = TrainingArguments(\n",
        "    output_dir=\"./Wordpiece_distilBert\",\n",
        "    overwrite_output_dir=True,\n",
        "    num_train_epochs=1,\n",
        "    save_steps=10_000,\n",
        "    save_total_limit=2,\n",
        ")\n",
        "\n",
        "trainer = Trainer(\n",
        "    model=model,\n",
        "    args=training_args,\n",
        "    data_collator=data_collator,\n",
        "    train_dataset=dataset\n",
        ")"
      ],
      "execution_count": null,
      "outputs": []
    },
    {
      "cell_type": "markdown",
      "metadata": {
        "id": "pkZMOsB5_KAg"
      },
      "source": [
        "# New Section"
      ]
    },
    {
      "cell_type": "code",
      "metadata": {
        "id": "02PmBjSxwtL3",
        "outputId": "39b209fd-9321-495d-d523-391fb6931026"
      },
      "source": [
        "model.num_parameters()"
      ],
      "execution_count": null,
      "outputs": [
        {
          "output_type": "stream",
          "text": [
            "/Users/meherabhishek/PycharmProjects/AutoEvaluation/bertenv/lib/python3.8/site-packages/ipykernel/ipkernel.py:287: DeprecationWarning: `should_run_async` will not call `transform_cell` automatically in the future. Please pass the result to `transformed_cell` argument and any exception that happen during thetransform in `preprocessing_exc_tuple` in IPython 7.17 and above.\n",
            "  and should_run_async(code)\n"
          ],
          "name": "stderr"
        },
        {
          "output_type": "execute_result",
          "data": {
            "text/plain": [
              "66362880"
            ]
          },
          "metadata": {
            "tags": []
          },
          "execution_count": 10
        }
      ]
    },
    {
      "cell_type": "code",
      "metadata": {
        "id": "2jIIB1JuwtL3",
        "outputId": "fcdf5a76-4cec-40f0-e2b9-d5213688dd64"
      },
      "source": [
        "%%time\n",
        "trainer.train()"
      ],
      "execution_count": null,
      "outputs": [
        {
          "output_type": "error",
          "ename": "TypeError",
          "evalue": "forward() got an unexpected keyword argument 'labels'",
          "traceback": [
            "\u001b[0;31m---------------------------------------------------------------------------\u001b[0m",
            "\u001b[0;31mTypeError\u001b[0m                                 Traceback (most recent call last)",
            "\u001b[0;32m<timed eval>\u001b[0m in \u001b[0;36m<module>\u001b[0;34m\u001b[0m\n",
            "\u001b[0;32m~/PycharmProjects/AutoEvaluation/bertenv/lib/python3.8/site-packages/transformers/trainer.py\u001b[0m in \u001b[0;36mtrain\u001b[0;34m(self, model_path, trial)\u001b[0m\n\u001b[1;32m    761\u001b[0m                         \u001b[0mtr_loss\u001b[0m \u001b[0;34m+=\u001b[0m \u001b[0mself\u001b[0m\u001b[0;34m.\u001b[0m\u001b[0mtraining_step\u001b[0m\u001b[0;34m(\u001b[0m\u001b[0mmodel\u001b[0m\u001b[0;34m,\u001b[0m \u001b[0minputs\u001b[0m\u001b[0;34m)\u001b[0m\u001b[0;34m\u001b[0m\u001b[0;34m\u001b[0m\u001b[0m\n\u001b[1;32m    762\u001b[0m                 \u001b[0;32melse\u001b[0m\u001b[0;34m:\u001b[0m\u001b[0;34m\u001b[0m\u001b[0;34m\u001b[0m\u001b[0m\n\u001b[0;32m--> 763\u001b[0;31m                     \u001b[0mtr_loss\u001b[0m \u001b[0;34m+=\u001b[0m \u001b[0mself\u001b[0m\u001b[0;34m.\u001b[0m\u001b[0mtraining_step\u001b[0m\u001b[0;34m(\u001b[0m\u001b[0mmodel\u001b[0m\u001b[0;34m,\u001b[0m \u001b[0minputs\u001b[0m\u001b[0;34m)\u001b[0m\u001b[0;34m\u001b[0m\u001b[0;34m\u001b[0m\u001b[0m\n\u001b[0m\u001b[1;32m    764\u001b[0m                 \u001b[0mself\u001b[0m\u001b[0;34m.\u001b[0m\u001b[0m_total_flos\u001b[0m \u001b[0;34m+=\u001b[0m \u001b[0mself\u001b[0m\u001b[0;34m.\u001b[0m\u001b[0mfloating_point_ops\u001b[0m\u001b[0;34m(\u001b[0m\u001b[0minputs\u001b[0m\u001b[0;34m)\u001b[0m\u001b[0;34m\u001b[0m\u001b[0;34m\u001b[0m\u001b[0m\n\u001b[1;32m    765\u001b[0m \u001b[0;34m\u001b[0m\u001b[0m\n",
            "\u001b[0;32m~/PycharmProjects/AutoEvaluation/bertenv/lib/python3.8/site-packages/transformers/trainer.py\u001b[0m in \u001b[0;36mtraining_step\u001b[0;34m(self, model, inputs)\u001b[0m\n\u001b[1;32m   1095\u001b[0m                 \u001b[0mloss\u001b[0m \u001b[0;34m=\u001b[0m \u001b[0mself\u001b[0m\u001b[0;34m.\u001b[0m\u001b[0mcompute_loss\u001b[0m\u001b[0;34m(\u001b[0m\u001b[0mmodel\u001b[0m\u001b[0;34m,\u001b[0m \u001b[0minputs\u001b[0m\u001b[0;34m)\u001b[0m\u001b[0;34m\u001b[0m\u001b[0;34m\u001b[0m\u001b[0m\n\u001b[1;32m   1096\u001b[0m         \u001b[0;32melse\u001b[0m\u001b[0;34m:\u001b[0m\u001b[0;34m\u001b[0m\u001b[0;34m\u001b[0m\u001b[0m\n\u001b[0;32m-> 1097\u001b[0;31m             \u001b[0mloss\u001b[0m \u001b[0;34m=\u001b[0m \u001b[0mself\u001b[0m\u001b[0;34m.\u001b[0m\u001b[0mcompute_loss\u001b[0m\u001b[0;34m(\u001b[0m\u001b[0mmodel\u001b[0m\u001b[0;34m,\u001b[0m \u001b[0minputs\u001b[0m\u001b[0;34m)\u001b[0m\u001b[0;34m\u001b[0m\u001b[0;34m\u001b[0m\u001b[0m\n\u001b[0m\u001b[1;32m   1098\u001b[0m \u001b[0;34m\u001b[0m\u001b[0m\n\u001b[1;32m   1099\u001b[0m         \u001b[0;32mif\u001b[0m \u001b[0mself\u001b[0m\u001b[0;34m.\u001b[0m\u001b[0margs\u001b[0m\u001b[0;34m.\u001b[0m\u001b[0mn_gpu\u001b[0m \u001b[0;34m>\u001b[0m \u001b[0;36m1\u001b[0m\u001b[0;34m:\u001b[0m\u001b[0;34m\u001b[0m\u001b[0;34m\u001b[0m\u001b[0m\n",
            "\u001b[0;32m~/PycharmProjects/AutoEvaluation/bertenv/lib/python3.8/site-packages/transformers/trainer.py\u001b[0m in \u001b[0;36mcompute_loss\u001b[0;34m(self, model, inputs)\u001b[0m\n\u001b[1;32m   1119\u001b[0m         \u001b[0mSubclass\u001b[0m \u001b[0;32mand\u001b[0m \u001b[0moverride\u001b[0m \u001b[0;32mfor\u001b[0m \u001b[0mcustom\u001b[0m \u001b[0mbehavior\u001b[0m\u001b[0;34m.\u001b[0m\u001b[0;34m\u001b[0m\u001b[0;34m\u001b[0m\u001b[0m\n\u001b[1;32m   1120\u001b[0m         \"\"\"\n\u001b[0;32m-> 1121\u001b[0;31m         \u001b[0moutputs\u001b[0m \u001b[0;34m=\u001b[0m \u001b[0mmodel\u001b[0m\u001b[0;34m(\u001b[0m\u001b[0;34m**\u001b[0m\u001b[0minputs\u001b[0m\u001b[0;34m)\u001b[0m\u001b[0;34m\u001b[0m\u001b[0;34m\u001b[0m\u001b[0m\n\u001b[0m\u001b[1;32m   1122\u001b[0m         \u001b[0;31m# Save past state if it exists\u001b[0m\u001b[0;34m\u001b[0m\u001b[0;34m\u001b[0m\u001b[0;34m\u001b[0m\u001b[0m\n\u001b[1;32m   1123\u001b[0m         \u001b[0;32mif\u001b[0m \u001b[0mself\u001b[0m\u001b[0;34m.\u001b[0m\u001b[0margs\u001b[0m\u001b[0;34m.\u001b[0m\u001b[0mpast_index\u001b[0m \u001b[0;34m>=\u001b[0m \u001b[0;36m0\u001b[0m\u001b[0;34m:\u001b[0m\u001b[0;34m\u001b[0m\u001b[0;34m\u001b[0m\u001b[0m\n",
            "\u001b[0;32m~/PycharmProjects/AutoEvaluation/bertenv/lib/python3.8/site-packages/torch/nn/modules/module.py\u001b[0m in \u001b[0;36m_call_impl\u001b[0;34m(self, *input, **kwargs)\u001b[0m\n\u001b[1;32m    725\u001b[0m             \u001b[0mresult\u001b[0m \u001b[0;34m=\u001b[0m \u001b[0mself\u001b[0m\u001b[0;34m.\u001b[0m\u001b[0m_slow_forward\u001b[0m\u001b[0;34m(\u001b[0m\u001b[0;34m*\u001b[0m\u001b[0minput\u001b[0m\u001b[0;34m,\u001b[0m \u001b[0;34m**\u001b[0m\u001b[0mkwargs\u001b[0m\u001b[0;34m)\u001b[0m\u001b[0;34m\u001b[0m\u001b[0;34m\u001b[0m\u001b[0m\n\u001b[1;32m    726\u001b[0m         \u001b[0;32melse\u001b[0m\u001b[0;34m:\u001b[0m\u001b[0;34m\u001b[0m\u001b[0;34m\u001b[0m\u001b[0m\n\u001b[0;32m--> 727\u001b[0;31m             \u001b[0mresult\u001b[0m \u001b[0;34m=\u001b[0m \u001b[0mself\u001b[0m\u001b[0;34m.\u001b[0m\u001b[0mforward\u001b[0m\u001b[0;34m(\u001b[0m\u001b[0;34m*\u001b[0m\u001b[0minput\u001b[0m\u001b[0;34m,\u001b[0m \u001b[0;34m**\u001b[0m\u001b[0mkwargs\u001b[0m\u001b[0;34m)\u001b[0m\u001b[0;34m\u001b[0m\u001b[0;34m\u001b[0m\u001b[0m\n\u001b[0m\u001b[1;32m    728\u001b[0m         for hook in itertools.chain(\n\u001b[1;32m    729\u001b[0m                 \u001b[0m_global_forward_hooks\u001b[0m\u001b[0;34m.\u001b[0m\u001b[0mvalues\u001b[0m\u001b[0;34m(\u001b[0m\u001b[0;34m)\u001b[0m\u001b[0;34m,\u001b[0m\u001b[0;34m\u001b[0m\u001b[0;34m\u001b[0m\u001b[0m\n",
            "\u001b[0;31mTypeError\u001b[0m: forward() got an unexpected keyword argument 'labels'"
          ]
        }
      ]
    },
    {
      "cell_type": "code",
      "metadata": {
        "id": "pLauaN0HwtL3"
      },
      "source": [
        ""
      ],
      "execution_count": null,
      "outputs": []
    },
    {
      "cell_type": "markdown",
      "metadata": {
        "id": "UJADc2WxFpie"
      },
      "source": [
        "### Sanjeev changes"
      ]
    },
    {
      "cell_type": "code",
      "metadata": {
        "id": "EvfFa1_dHAlo"
      },
      "source": [
        ""
      ],
      "execution_count": null,
      "outputs": []
    },
    {
      "cell_type": "code",
      "metadata": {
        "id": "uJ9iJwTMHAqA"
      },
      "source": [
        ""
      ],
      "execution_count": null,
      "outputs": []
    },
    {
      "cell_type": "code",
      "metadata": {
        "id": "V1Ch4KZmHAtR"
      },
      "source": [
        ""
      ],
      "execution_count": null,
      "outputs": []
    },
    {
      "cell_type": "code",
      "metadata": {
        "id": "FZPhXcdjF1Mb"
      },
      "source": [
        "import numpy as np\n",
        "import pandas as pd\n",
        "import torch\n",
        "import transformers as ppb # pytorch transformers\n",
        "from sklearn.linear_model import LogisticRegression\n",
        "from sklearn.model_selection import cross_val_score\n",
        "from sklearn.model_selection import train_test_split"
      ],
      "execution_count": 6,
      "outputs": []
    },
    {
      "cell_type": "code",
      "metadata": {
        "colab": {
          "base_uri": "https://localhost:8080/",
          "height": 496
        },
        "id": "EqBr2vLRHCXH",
        "outputId": "2fe1e4fe-757b-46bf-eaa2-1c093296e580"
      },
      "source": [
        "df = pd.read_csv(\"sample_data_test.csv\")\n",
        "df.head()"
      ],
      "execution_count": 8,
      "outputs": [
        {
          "output_type": "execute_result",
          "data": {
            "text/html": [
              "<div>\n",
              "<style scoped>\n",
              "    .dataframe tbody tr th:only-of-type {\n",
              "        vertical-align: middle;\n",
              "    }\n",
              "\n",
              "    .dataframe tbody tr th {\n",
              "        vertical-align: top;\n",
              "    }\n",
              "\n",
              "    .dataframe thead th {\n",
              "        text-align: right;\n",
              "    }\n",
              "</style>\n",
              "<table border=\"1\" class=\"dataframe\">\n",
              "  <thead>\n",
              "    <tr style=\"text-align: right;\">\n",
              "      <th></th>\n",
              "      <th>Unnamed: 0</th>\n",
              "      <th>correct_ans</th>\n",
              "      <th>candidate_ans</th>\n",
              "      <th>pretrained_glove_score_0.1.0</th>\n",
              "      <th>tl_glove_score_1.0.0</th>\n",
              "      <th>tl_glove_score_1.1.0</th>\n",
              "      <th>correct_ans_vec</th>\n",
              "      <th>candidate_ans_vec</th>\n",
              "    </tr>\n",
              "  </thead>\n",
              "  <tbody>\n",
              "    <tr>\n",
              "      <th>0</th>\n",
              "      <td>0</td>\n",
              "      <td>Machine learning is an application of artifici...</td>\n",
              "      <td>Machine Learning is the science of getting com...</td>\n",
              "      <td>98.242176</td>\n",
              "      <td>-0.0</td>\n",
              "      <td>-0.0</td>\n",
              "      <td>['machine', 'learning', 'is', 'an', 'applicati...</td>\n",
              "      <td>['machine', 'learning', 'is', 'the', 'science'...</td>\n",
              "    </tr>\n",
              "    <tr>\n",
              "      <th>1</th>\n",
              "      <td>1</td>\n",
              "      <td>Machine learning is an application of artifici...</td>\n",
              "      <td>Machine Learning (ML) can be explained as auto...</td>\n",
              "      <td>98.644829</td>\n",
              "      <td>-0.0</td>\n",
              "      <td>-0.0</td>\n",
              "      <td>['machine', 'learning', 'is', 'an', 'applicati...</td>\n",
              "      <td>['machine', 'learning', '(ml)', 'can', 'be', '...</td>\n",
              "    </tr>\n",
              "    <tr>\n",
              "      <th>2</th>\n",
              "      <td>2</td>\n",
              "      <td>Machine learning is an application of artifici...</td>\n",
              "      <td>Data science is an inter-disciplinary field th...</td>\n",
              "      <td>97.109884</td>\n",
              "      <td>-0.0</td>\n",
              "      <td>-0.0</td>\n",
              "      <td>['machine', 'learning', 'is', 'an', 'applicati...</td>\n",
              "      <td>['data', 'science', 'is', 'an', 'inter-discipl...</td>\n",
              "    </tr>\n",
              "    <tr>\n",
              "      <th>3</th>\n",
              "      <td>3</td>\n",
              "      <td>Machine learning is an application of artifici...</td>\n",
              "      <td>software engineers are really good in coding t...</td>\n",
              "      <td>94.816715</td>\n",
              "      <td>-0.0</td>\n",
              "      <td>-0.0</td>\n",
              "      <td>['machine', 'learning', 'is', 'an', 'applicati...</td>\n",
              "      <td>['software', 'engineers', 'are', 'really', 'go...</td>\n",
              "    </tr>\n",
              "    <tr>\n",
              "      <th>4</th>\n",
              "      <td>4</td>\n",
              "      <td>Machine learning is an application of artifici...</td>\n",
              "      <td>Joint Entrance Examination – Advanced (JEE-Adv...</td>\n",
              "      <td>92.076212</td>\n",
              "      <td>-0.0</td>\n",
              "      <td>-0.0</td>\n",
              "      <td>['machine', 'learning', 'is', 'an', 'applicati...</td>\n",
              "      <td>['joint', 'entrance', 'examination', '–', 'adv...</td>\n",
              "    </tr>\n",
              "  </tbody>\n",
              "</table>\n",
              "</div>"
            ],
            "text/plain": [
              "   Unnamed: 0  ...                                  candidate_ans_vec\n",
              "0           0  ...  ['machine', 'learning', 'is', 'the', 'science'...\n",
              "1           1  ...  ['machine', 'learning', '(ml)', 'can', 'be', '...\n",
              "2           2  ...  ['data', 'science', 'is', 'an', 'inter-discipl...\n",
              "3           3  ...  ['software', 'engineers', 'are', 'really', 'go...\n",
              "4           4  ...  ['joint', 'entrance', 'examination', '–', 'adv...\n",
              "\n",
              "[5 rows x 8 columns]"
            ]
          },
          "metadata": {
            "tags": []
          },
          "execution_count": 8
        }
      ]
    },
    {
      "cell_type": "code",
      "metadata": {
        "colab": {
          "base_uri": "https://localhost:8080/",
          "height": 204
        },
        "id": "BwdPjN82HCbI",
        "outputId": "e253d118-d0b8-4646-a028-f3c3ef445098"
      },
      "source": [
        "df = df.iloc[:,1:3]\n",
        "df"
      ],
      "execution_count": 9,
      "outputs": [
        {
          "output_type": "execute_result",
          "data": {
            "text/html": [
              "<div>\n",
              "<style scoped>\n",
              "    .dataframe tbody tr th:only-of-type {\n",
              "        vertical-align: middle;\n",
              "    }\n",
              "\n",
              "    .dataframe tbody tr th {\n",
              "        vertical-align: top;\n",
              "    }\n",
              "\n",
              "    .dataframe thead th {\n",
              "        text-align: right;\n",
              "    }\n",
              "</style>\n",
              "<table border=\"1\" class=\"dataframe\">\n",
              "  <thead>\n",
              "    <tr style=\"text-align: right;\">\n",
              "      <th></th>\n",
              "      <th>correct_ans</th>\n",
              "      <th>candidate_ans</th>\n",
              "    </tr>\n",
              "  </thead>\n",
              "  <tbody>\n",
              "    <tr>\n",
              "      <th>0</th>\n",
              "      <td>Machine learning is an application of artifici...</td>\n",
              "      <td>Machine Learning is the science of getting com...</td>\n",
              "    </tr>\n",
              "    <tr>\n",
              "      <th>1</th>\n",
              "      <td>Machine learning is an application of artifici...</td>\n",
              "      <td>Machine Learning (ML) can be explained as auto...</td>\n",
              "    </tr>\n",
              "    <tr>\n",
              "      <th>2</th>\n",
              "      <td>Machine learning is an application of artifici...</td>\n",
              "      <td>Data science is an inter-disciplinary field th...</td>\n",
              "    </tr>\n",
              "    <tr>\n",
              "      <th>3</th>\n",
              "      <td>Machine learning is an application of artifici...</td>\n",
              "      <td>software engineers are really good in coding t...</td>\n",
              "    </tr>\n",
              "    <tr>\n",
              "      <th>4</th>\n",
              "      <td>Machine learning is an application of artifici...</td>\n",
              "      <td>Joint Entrance Examination – Advanced (JEE-Adv...</td>\n",
              "    </tr>\n",
              "  </tbody>\n",
              "</table>\n",
              "</div>"
            ],
            "text/plain": [
              "                                         correct_ans                                      candidate_ans\n",
              "0  Machine learning is an application of artifici...  Machine Learning is the science of getting com...\n",
              "1  Machine learning is an application of artifici...  Machine Learning (ML) can be explained as auto...\n",
              "2  Machine learning is an application of artifici...  Data science is an inter-disciplinary field th...\n",
              "3  Machine learning is an application of artifici...  software engineers are really good in coding t...\n",
              "4  Machine learning is an application of artifici...  Joint Entrance Examination – Advanced (JEE-Adv..."
            ]
          },
          "metadata": {
            "tags": []
          },
          "execution_count": 9
        }
      ]
    },
    {
      "cell_type": "code",
      "metadata": {
        "id": "NInHWET-HCex"
      },
      "source": [
        ""
      ],
      "execution_count": 9,
      "outputs": []
    },
    {
      "cell_type": "code",
      "metadata": {
        "colab": {
          "base_uri": "https://localhost:8080/",
          "height": 164,
          "referenced_widgets": [
            "5e99f43b78074c4b8c14966d0ce235b7",
            "aff390749f8e4b62b5d330815baaa5a2",
            "68f82e822c654167b54ab2481a96b6a2",
            "3801c89a20134eeeae628fbe1c605474",
            "b2ae8f96191a413bb6da9acce08b30c3",
            "6307a5e0e20943b995b81279561474bc",
            "3dd47d503a514e43992ffe22f6364bc6",
            "a1a8aa4882514fdabb47719b68ba4336",
            "600ce832ea9244f8b9e70339363018e7",
            "9703737cd47b4d7d8fcca6b2237dd8e7",
            "498f0bf85df94026a20945014c41d62f",
            "e361da0ec4104756875f6f8d0285fc7c",
            "4c63df7fea47445eaf7985c584481175",
            "9b73b9d81dec4d55b8bb13a1a8769feb",
            "4a0bbb9bc36d4cd4a7d387a5dfa256a1",
            "b32cda5b481b49be8d821b25910dab08",
            "f2461ba3b4de4bb792d727f3b99f7ed0",
            "160a467d463a488da4330604a7d7b863",
            "e406825f59304ad28c397b2bb0838bc5",
            "3309605fd4424b0ea3aa397411e0a68a",
            "af1ef404d2994867965f3a111b59cea2",
            "0c4e0a23bcd94ad58a815dbccdc3e1f5",
            "d68fd1814c854cb495da30b2cb82e3a3",
            "0586d05c77534d9caee619f79e4a81d8"
          ]
        },
        "id": "NHhslS1gFsVL",
        "outputId": "77263d41-462b-4488-f563-dd3ac61db34b"
      },
      "source": [
        "model_class, tokenizer_class, pretrained_weights = (ppb.DistilBertModel, ppb.DistilBertTokenizer, 'distilbert-base-uncased')\n",
        "\n",
        "tokenizer = tokenizer_class.from_pretrained(pretrained_weights)\n",
        "model = model_class.from_pretrained(pretrained_weights)"
      ],
      "execution_count": 10,
      "outputs": [
        {
          "output_type": "display_data",
          "data": {
            "application/vnd.jupyter.widget-view+json": {
              "model_id": "5e99f43b78074c4b8c14966d0ce235b7",
              "version_minor": 0,
              "version_major": 2
            },
            "text/plain": [
              "HBox(children=(FloatProgress(value=0.0, description='Downloading', max=231508.0, style=ProgressStyle(descripti…"
            ]
          },
          "metadata": {
            "tags": []
          }
        },
        {
          "output_type": "stream",
          "text": [
            "\n"
          ],
          "name": "stdout"
        },
        {
          "output_type": "display_data",
          "data": {
            "application/vnd.jupyter.widget-view+json": {
              "model_id": "600ce832ea9244f8b9e70339363018e7",
              "version_minor": 0,
              "version_major": 2
            },
            "text/plain": [
              "HBox(children=(FloatProgress(value=0.0, description='Downloading', max=442.0, style=ProgressStyle(description_…"
            ]
          },
          "metadata": {
            "tags": []
          }
        },
        {
          "output_type": "stream",
          "text": [
            "\n"
          ],
          "name": "stdout"
        },
        {
          "output_type": "display_data",
          "data": {
            "application/vnd.jupyter.widget-view+json": {
              "model_id": "f2461ba3b4de4bb792d727f3b99f7ed0",
              "version_minor": 0,
              "version_major": 2
            },
            "text/plain": [
              "HBox(children=(FloatProgress(value=0.0, description='Downloading', max=267967963.0, style=ProgressStyle(descri…"
            ]
          },
          "metadata": {
            "tags": []
          }
        },
        {
          "output_type": "stream",
          "text": [
            "\n"
          ],
          "name": "stdout"
        }
      ]
    },
    {
      "cell_type": "code",
      "metadata": {
        "id": "ARjUIMtoFsaM"
      },
      "source": [
        "tokenized = df[\"candidate_ans\"].apply((lambda x: tokenizer.encode(x, add_special_tokens=True)))"
      ],
      "execution_count": 11,
      "outputs": []
    },
    {
      "cell_type": "code",
      "metadata": {
        "id": "vB3bzcxDLKn0",
        "outputId": "89dd7f4b-2a31-4fd3-9fd5-5432c6a629d0",
        "colab": {
          "base_uri": "https://localhost:8080/"
        }
      },
      "source": [
        "tokenized.shape"
      ],
      "execution_count": 18,
      "outputs": [
        {
          "output_type": "execute_result",
          "data": {
            "text/plain": [
              "(6,)"
            ]
          },
          "metadata": {
            "tags": []
          },
          "execution_count": 18
        }
      ]
    },
    {
      "cell_type": "code",
      "metadata": {
        "id": "3I1aZWP4L0Mf",
        "outputId": "9e9cefd9-6587-4e4a-c65c-b1c1826bd6d4",
        "colab": {
          "base_uri": "https://localhost:8080/",
          "height": 35
        }
      },
      "source": [
        "df[\"candidate_ans\"][3]"
      ],
      "execution_count": 28,
      "outputs": [
        {
          "output_type": "execute_result",
          "data": {
            "application/vnd.google.colaboratory.intrinsic+json": {
              "type": "string"
            },
            "text/plain": [
              "'software engineers are really good in coding they are a good team player and good in mathematics'"
            ]
          },
          "metadata": {
            "tags": []
          },
          "execution_count": 28
        }
      ]
    },
    {
      "cell_type": "code",
      "metadata": {
        "id": "JJaRGCEWLO43",
        "outputId": "089b7611-afbe-48ea-f642-a0ced2e9f79c",
        "colab": {
          "base_uri": "https://localhost:8080/"
        }
      },
      "source": [
        "tokenized[3]"
      ],
      "execution_count": 16,
      "outputs": [
        {
          "output_type": "execute_result",
          "data": {
            "text/plain": [
              "[101,\n",
              " 4007,\n",
              " 6145,\n",
              " 2024,\n",
              " 2428,\n",
              " 2204,\n",
              " 1999,\n",
              " 16861,\n",
              " 2027,\n",
              " 2024,\n",
              " 1037,\n",
              " 2204,\n",
              " 2136,\n",
              " 2447,\n",
              " 1998,\n",
              " 2204,\n",
              " 1999,\n",
              " 5597,\n",
              " 102]"
            ]
          },
          "metadata": {
            "tags": []
          },
          "execution_count": 16
        }
      ]
    },
    {
      "cell_type": "code",
      "metadata": {
        "id": "WAb0CX3MK6MG"
      },
      "source": [
        "tokenized[5]= tokenizer.encode(text, add_special_tokens=True)"
      ],
      "execution_count": 17,
      "outputs": []
    },
    {
      "cell_type": "code",
      "metadata": {
        "id": "MnCLZWFsKbdi"
      },
      "source": [
        "max_len = 0\n",
        "for i in tokenized.values:\n",
        "    if len(i) > max_len:\n",
        "        max_len = len(i)\n",
        "\n",
        "padded = np.array([i + [0]*(max_len-len(i)) for i in tokenized.values])"
      ],
      "execution_count": 19,
      "outputs": []
    },
    {
      "cell_type": "code",
      "metadata": {
        "colab": {
          "base_uri": "https://localhost:8080/"
        },
        "id": "zf-BW1m6Jq15",
        "outputId": "753e1eb6-c1ed-4a5d-f7c3-fc573efb5e31"
      },
      "source": [
        "np.array(padded).shape"
      ],
      "execution_count": 20,
      "outputs": [
        {
          "output_type": "execute_result",
          "data": {
            "text/plain": [
              "(6, 183)"
            ]
          },
          "metadata": {
            "tags": []
          },
          "execution_count": 20
        }
      ]
    },
    {
      "cell_type": "code",
      "metadata": {
        "colab": {
          "base_uri": "https://localhost:8080/"
        },
        "id": "7JA0_9CHKv9S",
        "outputId": "54dc7f34-13cb-4f00-d4ad-8d8eb191fe22"
      },
      "source": [
        "attention_mask = np.where(padded != 0, 1, 0)\n",
        "attention_mask.shape"
      ],
      "execution_count": 21,
      "outputs": [
        {
          "output_type": "execute_result",
          "data": {
            "text/plain": [
              "(6, 183)"
            ]
          },
          "metadata": {
            "tags": []
          },
          "execution_count": 21
        }
      ]
    },
    {
      "cell_type": "code",
      "metadata": {
        "id": "wXKIl_FvKxdY"
      },
      "source": [
        "input_ids = torch.tensor(padded)  \n",
        "attention_mask = torch.tensor(attention_mask)\n",
        "\n",
        "with torch.no_grad():\n",
        "    last_hidden_states = model(input_ids, attention_mask=attention_mask)"
      ],
      "execution_count": 22,
      "outputs": []
    },
    {
      "cell_type": "code",
      "metadata": {
        "id": "OPZGrIJMKxgp"
      },
      "source": [
        "features = last_hidden_states[0][:,0,:].numpy() "
      ],
      "execution_count": 23,
      "outputs": []
    },
    {
      "cell_type": "code",
      "metadata": {
        "colab": {
          "base_uri": "https://localhost:8080/"
        },
        "id": "nHbi563fKxjo",
        "outputId": "9ebedc45-da40-4af6-9771-c242c4737c12"
      },
      "source": [
        "features.shape"
      ],
      "execution_count": 24,
      "outputs": [
        {
          "output_type": "execute_result",
          "data": {
            "text/plain": [
              "(6, 768)"
            ]
          },
          "metadata": {
            "tags": []
          },
          "execution_count": 24
        }
      ]
    },
    {
      "cell_type": "code",
      "metadata": {
        "id": "pTdjVwNjKAEs"
      },
      "source": [
        "text =\"The president of India, officially the President of the Republic of India (IAST: Bhārat kē Rāṣhṭrapati), is the ceremonial head of state of India and the Commander-in-chief of the Indian Armed Forces.The president is indirectly elected by an electoral college comprising the Parliament of India (both houses) and the legislative assemblies of each of India's states and territories, who themselves are all directly elected.\""
      ],
      "execution_count": 12,
      "outputs": []
    },
    {
      "cell_type": "code",
      "metadata": {
        "colab": {
          "base_uri": "https://localhost:8080/"
        },
        "id": "_AK_Ivy3Kxm2",
        "outputId": "7333221e-01ca-4917-c06d-62d92fce8a3a"
      },
      "source": [
        "print(df[\"candidate_ans\"].values[0])"
      ],
      "execution_count": 25,
      "outputs": [
        {
          "output_type": "stream",
          "text": [
            "Machine Learning is the science of getting computers to learn and act like humans do, and improve their learning over time in autonomous fashion, by feeding them data and information in the form of observations and real-world interactions.\n"
          ],
          "name": "stdout"
        }
      ]
    },
    {
      "cell_type": "code",
      "metadata": {
        "colab": {
          "base_uri": "https://localhost:8080/"
        },
        "id": "EAM4EMJUF4ZA",
        "outputId": "2cdcdab1-80ab-4555-dd88-5f01f3318405"
      },
      "source": [
        "features[0]"
      ],
      "execution_count": 29,
      "outputs": [
        {
          "output_type": "execute_result",
          "data": {
            "text/plain": [
              "array([-3.08142602e-01, -1.49790034e-01, -5.20846784e-01,  2.42292330e-01,\n",
              "        6.07292391e-02, -3.06847338e-02,  3.01691920e-01,  3.48404735e-01,\n",
              "       -6.09287713e-03, -6.42100513e-01,  6.14608116e-02, -1.92244351e-01,\n",
              "       -5.73620915e-01,  3.59506607e-01, -5.03467321e-01, -5.73552959e-02,\n",
              "        9.32614952e-02,  8.70709121e-02, -2.76093632e-02,  4.06692296e-01,\n",
              "       -4.62785631e-01, -1.39107943e-01, -9.08476114e-02,  5.42547345e-01,\n",
              "        2.11270839e-01, -5.75832427e-01,  9.73371193e-02,  1.46942824e-01,\n",
              "        4.09967333e-01, -1.04062557e-01, -2.68188179e-01,  1.85617760e-01,\n",
              "       -2.71366656e-01, -4.76074189e-01,  2.66784221e-01,  9.05128382e-03,\n",
              "       -1.99091449e-01, -4.56973404e-01, -1.47691473e-01,  2.84025699e-01,\n",
              "       -1.69437349e-01,  1.34420440e-01, -1.92250669e-01,  7.42065609e-02,\n",
              "       -3.53516132e-01, -6.43529892e-02, -3.29623890e+00,  1.65182829e-01,\n",
              "       -1.93200573e-01,  3.15806246e-03, -3.01448345e-01,  2.60472819e-02,\n",
              "       -1.17619514e-01,  5.92223465e-01,  2.93791860e-01,  4.97044951e-01,\n",
              "       -1.12714879e-01,  2.42937490e-01, -4.49889041e-02,  1.14932805e-01,\n",
              "        2.64366269e-01,  4.15999502e-01, -2.75640905e-01, -2.68060148e-01,\n",
              "       -1.93599820e-01, -1.45331427e-01, -9.93295312e-02, -2.02443749e-02,\n",
              "       -4.46728498e-01,  7.52495825e-02, -6.52512848e-01, -2.59822279e-01,\n",
              "       -1.51355505e-01,  2.36126587e-01, -3.56406569e-01,  1.25962356e-02,\n",
              "        1.64475571e-03,  2.17161208e-01, -1.10914573e-01, -1.42359108e-01,\n",
              "       -3.74072403e-01,  8.43696117e-01,  3.48204672e-01,  1.47155523e-01,\n",
              "        4.54470634e-01,  2.17542529e-01, -4.97232497e-01,  2.75911480e-01,\n",
              "        6.13848045e-02,  4.89069283e-01, -2.21238658e-01, -1.03201106e-01,\n",
              "       -1.81467999e-02,  3.09736252e-01,  6.75141335e-01,  2.19426979e-03,\n",
              "        5.10448039e-01, -1.24171145e-01, -1.46046981e-01,  4.09164637e-01,\n",
              "        4.50520158e-01, -6.08950198e-01,  4.87616450e-01, -2.53180593e-01,\n",
              "        3.56516480e-01,  1.11995265e-01,  1.43138289e-01, -5.68914652e-01,\n",
              "       -1.66350305e-01, -2.32411981e+00,  4.73625451e-01,  3.94027025e-01,\n",
              "       -2.70583242e-01, -4.81599718e-01, -2.02314168e-01,  1.95839912e-01,\n",
              "        3.79547089e-01,  1.34025246e-01,  1.32997915e-01, -3.77007052e-02,\n",
              "        3.19067985e-02,  4.72855747e-01, -1.36752740e-01, -8.26021954e-02,\n",
              "       -3.80180389e-01,  9.82702523e-02,  1.46461740e-01, -1.67011674e-02,\n",
              "        1.11846246e-01,  1.94446323e-03,  9.60387647e-01,  4.44916785e-01,\n",
              "        1.07836731e-01, -3.52023929e-01, -3.06199193e-01,  7.96276629e-01,\n",
              "        5.55671155e-01,  1.24431118e-01, -2.70117223e-01,  4.89469051e-01,\n",
              "       -2.40801558e-01, -6.95621490e-01, -2.44867516e+00,  4.28223372e-01,\n",
              "        7.48847902e-01,  1.83292925e-01,  1.71568483e-01, -4.23183054e-01,\n",
              "        9.33767203e-03,  1.43353447e-01, -6.70501310e-03,  2.49261275e-01,\n",
              "       -1.61545932e-01, -1.53440699e-01, -7.99034461e-02,  8.28405768e-02,\n",
              "       -6.80338502e-01,  2.22597383e-02,  1.27124816e-01,  1.89203471e-01,\n",
              "        1.26206383e-01, -4.28686112e-01, -3.77314240e-01, -1.93551660e-01,\n",
              "       -4.93310273e-01,  2.28117466e-01,  5.73854506e-01,  4.48827267e-01,\n",
              "       -4.03264426e-02,  4.05159503e-01, -3.08889568e-01, -1.60973281e-01,\n",
              "        9.51946914e-01, -2.32822704e-03,  1.36341333e-01,  8.87193382e-02,\n",
              "       -6.05421625e-02, -2.39763744e-02,  4.45882708e-01,  2.74191629e-02,\n",
              "       -6.90205842e-02,  3.07436913e-01,  4.14734453e-01,  2.21820325e-02,\n",
              "       -6.98968247e-02, -2.81454951e-01,  2.57485598e-01, -5.69502473e-01,\n",
              "       -4.84575570e-01,  1.75087422e-01, -3.48054498e-01, -2.52809852e-01,\n",
              "       -2.65870303e-01, -1.83167979e-01,  3.14372629e-01, -1.79840147e-01,\n",
              "       -1.72289863e-01, -2.60625631e-01, -1.33946881e-01,  1.54169753e-01,\n",
              "       -3.47708941e-01, -3.25159132e-01, -2.61570290e-02, -3.10025632e-01,\n",
              "       -1.91669211e-01,  3.10617971e+00, -6.27461681e-03, -2.70657480e-01,\n",
              "        1.24079930e-02,  2.50336863e-02,  2.53783911e-02, -2.76743136e-02,\n",
              "       -2.20368281e-01, -2.07094342e-01,  4.04716283e-01,  3.65201831e-01,\n",
              "       -2.33961388e-01,  3.39698434e-01,  1.73179135e-01, -1.70776024e-02,\n",
              "        4.61927533e-01, -9.76643991e-03, -1.07463576e-01,  2.89095908e-01,\n",
              "        1.83238402e-01,  6.85225427e-01,  4.28915322e-01,  5.51943481e-01,\n",
              "        7.27006793e-01, -1.47163498e+00,  9.51021686e-02, -1.50932625e-01,\n",
              "        1.56621695e-01,  6.96838498e-02, -5.58133125e-01, -5.52726872e-02,\n",
              "        3.73051353e-02, -2.54597098e-01,  5.59498817e-02, -1.44354686e-01,\n",
              "       -3.20855707e-01,  9.80149657e-02,  2.21526936e-01,  1.59393683e-01,\n",
              "        2.34798416e-01,  2.47347087e-01, -6.89358562e-02,  3.55127066e-01,\n",
              "        1.69079065e-01, -4.02926914e-02, -6.28839731e-02,  3.07498991e-01,\n",
              "        1.57646969e-01, -2.74826318e-01,  1.03972919e-01, -2.14183137e-01,\n",
              "        1.71336934e-01,  1.65784195e-01, -5.82124770e-01,  2.02516690e-01,\n",
              "       -1.95587739e-01, -1.13607384e-01, -8.46992731e-02,  1.58327460e-01,\n",
              "       -6.16799116e-01, -7.59599805e-01,  1.37954265e-01, -8.34748149e-02,\n",
              "        2.31236190e-01,  1.22022316e-01,  1.05016284e-01, -6.08899772e-01,\n",
              "       -3.51221532e-01, -2.63516116e+00, -3.43031399e-02, -6.29938960e-01,\n",
              "        3.91507626e-01,  2.13307381e-01, -1.57398567e-01,  5.70951551e-02,\n",
              "        2.10332453e-01,  3.58129561e-01, -3.92473549e-01,  3.48649770e-01,\n",
              "        1.02060601e-01,  1.91065401e-01,  1.19856790e-01, -6.18659019e-01,\n",
              "        6.76712573e-01,  1.18964240e-01, -4.43530768e-01, -1.25197163e-02,\n",
              "       -3.23940694e-01, -1.92038849e-01,  2.84301698e-01,  1.98004797e-01,\n",
              "        1.11658745e-01, -1.74703896e-01,  1.79605603e-01, -4.93755698e-01,\n",
              "       -4.99967486e-01, -4.93429810e-01,  3.55082452e-01,  1.89360589e-01,\n",
              "       -2.37584665e-01,  1.00895256e-01,  2.34408863e-02, -3.44522417e-01,\n",
              "       -2.57532787e+00,  2.19193518e-01,  2.24732205e-01, -4.13543224e-01,\n",
              "        1.09897047e-01,  6.31481484e-02,  6.49081886e-01, -5.94249032e-02,\n",
              "       -3.64450157e-01, -5.18793538e-02, -1.40710333e-02, -2.31232643e-01,\n",
              "        2.30679773e-02,  4.09096330e-01,  4.67442751e-01,  1.45983556e-02,\n",
              "        5.97240269e-01, -3.36932063e-01,  6.60857707e-02, -5.68526797e-02,\n",
              "        1.79444581e-01, -2.93952346e-01, -1.23028077e-01,  1.62913322e-01,\n",
              "       -5.85856996e-02, -1.89402238e-01, -4.28101897e-01, -6.44024730e-01,\n",
              "       -3.58292349e-02, -9.90222096e-02,  2.19199151e-01, -8.08368862e-01,\n",
              "       -1.23047031e-01, -1.29908055e-01, -2.96961546e-01,  2.07485482e-01,\n",
              "       -2.81821162e-01,  1.50756165e-01,  4.43703413e-01, -2.00404480e-01,\n",
              "       -1.64079726e-01,  1.02377689e+00,  3.22602332e-01, -6.69914708e-02,\n",
              "        5.97678602e-01,  2.27296561e-01, -6.57981560e-02, -5.32854348e-02,\n",
              "       -2.79801369e-01,  3.50925513e-02,  1.71995990e-03,  2.71891475e-01,\n",
              "        1.44595754e+00, -3.22926283e-01,  9.53326225e-02, -4.73131269e-01,\n",
              "        6.83352232e-01, -9.94407386e-02, -3.61764245e-02,  4.28496152e-01,\n",
              "        7.54397333e-01, -2.31415316e-01,  1.10376090e-01, -4.63732898e-01,\n",
              "        1.83456257e-01, -5.52812517e-01,  1.43585399e-01, -7.81021774e-01,\n",
              "        3.45649958e-01,  1.41420141e-01,  2.44650263e-02,  6.85801327e-01,\n",
              "       -1.61342144e-01, -9.93116081e-01, -1.91780955e-01, -7.72024453e-01,\n",
              "        2.36013755e-01, -3.00585568e-01,  1.52604714e-01,  1.69485167e-01,\n",
              "       -4.58496660e-01, -1.69748053e-01, -6.15123391e-01, -1.67164877e-01,\n",
              "       -1.94748044e-01, -3.82225245e-01, -1.20338805e-01,  2.67915756e-01,\n",
              "       -7.57789969e-01, -4.18765843e-02,  2.79782027e-01,  3.21027100e-01,\n",
              "        4.05391723e-01,  3.06378454e-01,  6.65955693e-02, -2.15177760e-01,\n",
              "        3.35492343e-01, -4.26792562e-01,  3.06234092e-01, -2.87189811e-01,\n",
              "       -8.80558491e-02, -3.10970008e-01, -3.35482538e-01,  4.09985380e-03,\n",
              "       -1.51354417e-01, -2.74367452e-01, -4.62763041e-01,  2.42591023e-01,\n",
              "        3.58817756e-01,  1.71533421e-01, -6.40630186e-01,  3.79392892e-01,\n",
              "        2.78283089e-01,  1.49388134e-01,  9.33951616e-01,  3.26762646e-01,\n",
              "       -4.19266410e-02,  5.72243869e-01,  1.65609121e-01, -7.99361095e-02,\n",
              "        1.78310096e-01,  8.25481340e-02, -1.16953678e-01,  1.29889995e-01,\n",
              "        2.09526598e-01,  2.60909498e-02,  7.02055618e-02, -3.54705155e-01,\n",
              "       -6.53871298e-02, -1.60074174e-01,  2.90129125e-01,  2.62023866e-01,\n",
              "       -2.93459773e-01, -3.80449921e-01,  1.07401542e-01, -1.66896015e-01,\n",
              "       -6.30698800e-02,  4.14111942e-01,  1.08543426e-01,  3.18340927e-01,\n",
              "        5.31176507e-01,  1.50712937e-01,  2.02645734e-01,  2.52423305e-02,\n",
              "       -8.01018775e-02,  3.78492773e-01,  6.38581580e-03,  2.18798712e-01,\n",
              "        1.44995615e-01,  4.48177576e-01, -1.39969423e-01,  5.27996235e-02,\n",
              "       -1.22165412e-01, -3.48904014e-01,  7.62905538e-01, -1.22371456e-02,\n",
              "       -2.94764757e-01, -2.15457052e-01, -1.52789444e-01, -1.13819554e-01,\n",
              "        3.23933363e-02,  3.61414373e-01, -1.96346891e+00,  9.45628509e-02,\n",
              "        5.83841130e-02,  2.66417056e-01, -1.30495310e-01,  8.32462385e-02,\n",
              "        1.28177211e-01,  3.55748832e-01,  1.15618221e-01, -1.81944966e-01,\n",
              "        2.39759777e-02, -3.96537095e-01,  4.21380140e-02, -8.16577598e-02,\n",
              "        3.17888707e-01, -1.75275460e-01, -7.08128929e-01, -2.13811129e-01,\n",
              "        9.08692926e-02,  1.71050623e-01, -4.05966520e-01,  3.92929077e-01,\n",
              "        1.23146754e-02, -3.24257761e-02,  1.11120038e-01,  6.41380949e-03,\n",
              "       -1.73993573e-01,  1.37769118e-01,  4.68642741e-01,  6.32079542e-01,\n",
              "       -1.00640446e-01, -4.50016767e-01, -5.02860546e-01, -7.63038844e-02,\n",
              "        2.69257277e-01, -1.68656707e-01,  1.00615986e-01, -4.41934258e-01,\n",
              "        3.86195779e-01,  4.06049103e-01, -6.23271346e-01,  3.47217083e-01,\n",
              "        1.56227857e-01, -2.23878607e-01,  3.93213987e-01,  2.65708845e-02,\n",
              "       -3.13631266e-01,  1.00069240e-01, -6.02338254e-01,  2.15785410e-02,\n",
              "        7.18905479e-02, -2.84330606e-01, -6.96232840e-02,  4.12991717e-02,\n",
              "        1.84150696e-01, -4.29699905e-02, -1.93569332e-01,  3.32105428e-01,\n",
              "       -3.72728974e-01, -6.15431443e-02,  2.78031658e-02, -7.53109623e-03,\n",
              "       -2.57598549e-01, -9.60242152e-02, -3.86406094e-01, -9.54709709e-01,\n",
              "       -7.74125010e-02, -1.81430116e-01, -1.30629182e-01, -6.80047348e-02,\n",
              "        4.76377964e-01, -3.00379723e-01, -2.57004023e-01,  9.57504511e-02,\n",
              "       -6.97356686e-02,  5.39769530e-01,  6.91278110e-05, -2.25780174e-01,\n",
              "        1.18131340e-01,  1.34853557e-01, -9.53738913e-02, -2.24825740e-02,\n",
              "        2.55954623e-01,  4.36365575e-01, -2.38732062e-03, -1.81183293e-02,\n",
              "       -7.53566921e-01, -5.39895296e-01,  4.34425473e-01,  1.62821308e-01,\n",
              "       -3.29109609e-01,  2.51572952e-02, -1.18173406e-01,  6.74386099e-02,\n",
              "        1.20962098e-01, -4.34832245e-01,  1.23717219e-01, -1.06205285e-01,\n",
              "        2.33067587e-01, -5.31169593e-01, -1.36116043e-01,  2.14480981e-01,\n",
              "        2.11247355e-01,  3.65282685e-01,  9.06921700e-02,  1.78828865e-01,\n",
              "        2.37096339e-01, -1.63549498e-01, -9.23385248e-02, -1.69422358e-01,\n",
              "       -1.08789597e-02, -5.71459718e-03,  6.84814528e-02,  1.32667571e-01,\n",
              "        3.83027881e-01, -2.02224120e-01, -1.22223757e-01, -6.37271702e-01,\n",
              "        1.74369764e+00,  3.60566795e-01,  4.91376221e-02, -2.70893037e-01,\n",
              "        2.04240009e-01,  2.59704739e-02,  4.57359791e-01,  3.83582622e-01,\n",
              "       -1.39291301e-01,  8.83054584e-02, -4.32485431e-01, -3.15270454e-01,\n",
              "        1.89891443e-01,  5.08160174e-01,  2.72998929e-01, -1.75616499e-02,\n",
              "        2.26805687e-01,  1.80043932e-02, -4.44315135e-01,  1.06414020e-01,\n",
              "       -4.84970570e-01,  5.54913759e-01,  5.99669933e-01, -1.53128296e-01,\n",
              "        3.85743529e-01,  6.92588985e-02,  9.72413644e-02, -8.59987736e-02,\n",
              "        5.45252338e-02,  8.15240145e-02, -2.40506798e-01,  2.70702094e-01,\n",
              "        2.62913942e-01,  3.85118201e-02, -3.64644647e-01,  1.22454911e-01,\n",
              "       -6.34305086e-03, -7.66439214e-02,  1.73053205e-01,  3.69947433e-01,\n",
              "       -1.90562546e-01, -3.97691905e-01,  1.64934784e-01, -1.49020895e-01,\n",
              "        3.54651928e-01,  9.81101215e-01,  2.70816565e-01, -5.81491709e-01,\n",
              "        1.77440047e-02,  6.09454155e-01,  1.03498906e-01,  3.19887549e-01,\n",
              "       -1.35326371e-01,  6.27937198e-01, -6.77522346e-02, -3.22863847e-01,\n",
              "       -7.51481531e-03,  1.38372511e-01,  1.45490579e-02,  2.30656669e-01,\n",
              "        1.85345709e-01,  3.08798701e-01,  6.74842745e-02,  6.14038289e-01,\n",
              "       -3.04004569e-02,  4.38926548e-01, -1.31147346e-02,  7.27271974e-01,\n",
              "       -3.03158581e-01, -1.96946919e-01,  2.91319937e-01,  4.17274833e-01,\n",
              "        8.52841556e-01,  6.57223523e-01,  4.62365270e-01, -1.97203785e-01,\n",
              "        1.04231584e+00,  1.42077267e-01, -1.91687331e-01, -1.96875966e+00,\n",
              "        1.14593305e-01,  1.55003741e-01,  9.39622939e-01, -2.99073637e-01,\n",
              "        5.66360533e-01,  6.10021889e-01, -4.12598103e-01, -2.89554924e-01,\n",
              "       -3.08905363e-01,  1.75160214e-01, -4.32159044e-02,  9.44710553e-01,\n",
              "       -1.15291864e-01,  4.64696437e-02, -1.48445711e-01,  1.91645741e-01,\n",
              "       -8.05999935e-02, -3.50488335e-01, -1.80920467e-01, -3.91552031e-01,\n",
              "        2.66335726e-01,  3.35167977e-04,  3.39850187e-02, -5.81884503e-01,\n",
              "       -1.91777334e-01,  2.38421112e-01, -3.66932094e-01,  3.66214156e-01,\n",
              "        1.45064905e-01, -7.01354221e-02,  5.54888606e-01, -2.24318057e-01,\n",
              "        2.27130771e-01, -9.41815749e-02, -2.28187684e-02, -2.28231937e-01,\n",
              "       -1.09545374e-02, -5.96142653e-03,  2.53746212e-01, -3.67185503e-01,\n",
              "        5.62175274e-01, -3.41930576e-02, -3.34921330e-02, -2.10519299e-01,\n",
              "       -4.49038386e-01,  4.05025363e-01, -1.97200283e-01,  4.23742265e-01,\n",
              "        7.25175580e-03, -7.53362253e-02,  2.83447623e-01,  3.89461927e-02,\n",
              "       -1.21409871e-01,  2.57014215e-01, -1.07871756e-01,  2.21725747e-01,\n",
              "        6.84855804e-02, -1.02785096e-01, -3.19840103e-01, -3.15022841e-02,\n",
              "        7.43079185e-02,  1.98638499e-01,  2.51280576e-01, -1.43640116e-01,\n",
              "       -1.82624012e-01, -1.21500961e-01,  1.27093717e-01, -1.58019200e-01,\n",
              "       -4.27551091e-01, -2.63474107e-01, -2.66556263e-01,  3.89284164e-01,\n",
              "       -7.12721199e-02,  2.38474831e-01, -9.91324484e-02,  4.57578823e-02,\n",
              "        4.41149622e-01,  2.53063351e-01,  1.04165278e-01, -2.94023395e-01,\n",
              "       -2.40044534e-01, -1.42295256e-01, -2.79685527e-01,  2.26906300e-01,\n",
              "       -6.33385420e+00, -4.45616096e-01, -5.50589502e-01, -1.65780246e-01,\n",
              "       -2.60967109e-02, -4.40722287e-01, -7.60192499e-02, -3.37946177e-01,\n",
              "       -6.69321790e-02, -3.69567871e-01, -2.95403689e-01,  2.63245255e-01,\n",
              "        1.13859072e-01, -3.23799103e-01, -3.59466076e-02,  5.86945713e-01],\n",
              "      dtype=float32)"
            ]
          },
          "metadata": {
            "tags": []
          },
          "execution_count": 29
        }
      ]
    },
    {
      "cell_type": "code",
      "metadata": {
        "colab": {
          "base_uri": "https://localhost:8080/"
        },
        "id": "4venlPeFF4cY",
        "outputId": "4bc03c32-caa7-4187-d60c-2962d7560898"
      },
      "source": [
        "#cosine similarity\n",
        "from sklearn.metrics.pairwise import cosine_similarity\n",
        "print(cosine_similarity(features, features))"
      ],
      "execution_count": 27,
      "outputs": [
        {
          "output_type": "stream",
          "text": [
            "[[1.         0.942971   0.96047986 0.81406295 0.8187834  0.7977904 ]\n",
            " [0.942971   1.0000001  0.91257393 0.8497659  0.80976015 0.75950277]\n",
            " [0.96047986 0.91257393 1.0000002  0.7982632  0.827279   0.7801221 ]\n",
            " [0.81406295 0.8497659  0.7982632  0.9999995  0.7638572  0.7189686 ]\n",
            " [0.8187834  0.80976015 0.827279   0.7638572  0.9999999  0.8490895 ]\n",
            " [0.7977904  0.75950277 0.7801221  0.7189686  0.8490895  0.99999994]]\n"
          ],
          "name": "stdout"
        }
      ]
    },
    {
      "cell_type": "code",
      "metadata": {
        "id": "QOQJ1HaBF4fy"
      },
      "source": [
        ""
      ],
      "execution_count": null,
      "outputs": []
    }
  ]
}